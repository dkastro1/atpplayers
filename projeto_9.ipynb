{
 "cells": [
  {
   "cell_type": "code",
   "execution_count": null,
   "id": "afe7356e",
   "metadata": {},
   "outputs": [],
   "source": [
    "# projeto atp players "
   ]
  },
  {
   "cell_type": "code",
   "execution_count": null,
   "id": "d6fdccf6",
   "metadata": {},
   "outputs": [],
   "source": [
    "# passo 1 do crisp dm já feito \n",
    "# vamos para a analise de dados (passo 2)"
   ]
  },
  {
   "cell_type": "code",
   "execution_count": 1,
   "id": "27b431e2",
   "metadata": {},
   "outputs": [],
   "source": [
    "# importar as bibliotecas \n",
    "\n",
    "import pandas as pd \n",
    "import numpy as np\n",
    "import matplotlib.pyplot as plt\n",
    "import seaborn as sns\n",
    "from statsmodels.stats.outliers_influence import variance_inflation_factor\n",
    "from sklearn.decomposition import PCA\n",
    "import warnings\n",
    "warnings.filterwarnings('ignore')"
   ]
  },
  {
   "cell_type": "code",
   "execution_count": 2,
   "id": "05358d6b",
   "metadata": {},
   "outputs": [],
   "source": [
    "# ler a base de dados \n",
    "\n",
    "atp = pd.read_json(\"atpplayers.json\", lines = True)"
   ]
  },
  {
   "cell_type": "code",
   "execution_count": 3,
   "id": "2d174078",
   "metadata": {},
   "outputs": [],
   "source": [
    "# pegar somente os torneios na india \n",
    "\n",
    "india1 = atp.loc[(atp[\"Location\"].str.split(',', expand = True)[1].str.strip() == \"India\")]\n",
    "india2 = atp.loc[atp[\"Location\"].str.strip() == \"India\"]\n",
    "india = pd.concat([india1, india2])"
   ]
  },
  {
   "cell_type": "code",
   "execution_count": 4,
   "id": "06488517",
   "metadata": {},
   "outputs": [],
   "source": [
    "# dropando colunas aparentemente inuteis\n",
    "\n",
    "india.drop(columns = [\"_id\", \"LinkPlayer\", \"Location\"], inplace = True)"
   ]
  },
  {
   "cell_type": "code",
   "execution_count": 5,
   "id": "1cf9cd20",
   "metadata": {},
   "outputs": [],
   "source": [
    "# substituindo string para valores nulos\n",
    "\n",
    "india.replace(['NA', 'null', '-', ''], value=np.nan, inplace=True)"
   ]
  },
  {
   "cell_type": "code",
   "execution_count": 6,
   "id": "4af25537",
   "metadata": {},
   "outputs": [],
   "source": [
    "# separando coluna \"hand\"\n",
    "\n",
    "india[['Forehand', 'Backhand']] = india['Hand'].str.split(', ', expand=True)\n",
    "india = india.drop(columns=['Hand'])"
   ]
  },
  {
   "cell_type": "code",
   "execution_count": 7,
   "id": "affdf5a5",
   "metadata": {},
   "outputs": [],
   "source": [
    "# separando coluna da Data do torneio\n",
    "\n",
    "india[['Data_inicio', 'Data_final']] = india['Date'].str.split(' - ', expand=True)\n",
    "india = india.drop(columns=['Date'])"
   ]
  },
  {
   "cell_type": "code",
   "execution_count": 8,
   "id": "5be3a299",
   "metadata": {},
   "outputs": [],
   "source": [
    "india['Data_inicio'] = pd.to_datetime(india['Data_inicio'])\n",
    "india['Data_final'] = pd.to_datetime(india['Data_final'])"
   ]
  },
  {
   "cell_type": "code",
   "execution_count": 9,
   "id": "5b36a65e",
   "metadata": {},
   "outputs": [],
   "source": [
    "india['Duração'] = (india['Data_final'] - india['Data_inicio']).dt.days"
   ]
  },
  {
   "cell_type": "code",
   "execution_count": 10,
   "id": "68d1a6d3",
   "metadata": {},
   "outputs": [
    {
     "data": {
      "text/html": [
       "<div>\n",
       "<style scoped>\n",
       "    .dataframe tbody tr th:only-of-type {\n",
       "        vertical-align: middle;\n",
       "    }\n",
       "\n",
       "    .dataframe tbody tr th {\n",
       "        vertical-align: top;\n",
       "    }\n",
       "\n",
       "    .dataframe thead th {\n",
       "        text-align: right;\n",
       "    }\n",
       "</style>\n",
       "<table border=\"1\" class=\"dataframe\">\n",
       "  <thead>\n",
       "    <tr style=\"text-align: right;\">\n",
       "      <th></th>\n",
       "      <th>PlayerName</th>\n",
       "      <th>Born</th>\n",
       "      <th>Height</th>\n",
       "      <th>Tournament</th>\n",
       "      <th>Ground</th>\n",
       "      <th>Prize</th>\n",
       "      <th>GameRound</th>\n",
       "      <th>GameRank</th>\n",
       "      <th>Oponent</th>\n",
       "      <th>WL</th>\n",
       "      <th>Score</th>\n",
       "      <th>Forehand</th>\n",
       "      <th>Backhand</th>\n",
       "      <th>Data_inicio</th>\n",
       "      <th>Data_final</th>\n",
       "      <th>Duração</th>\n",
       "    </tr>\n",
       "  </thead>\n",
       "  <tbody>\n",
       "    <tr>\n",
       "      <th>1763</th>\n",
       "      <td>Daniil Medvedev</td>\n",
       "      <td>Moscow, Russia</td>\n",
       "      <td>198.0</td>\n",
       "      <td>Chennai</td>\n",
       "      <td>Hard</td>\n",
       "      <td>$447,480</td>\n",
       "      <td>Finals</td>\n",
       "      <td>14.0</td>\n",
       "      <td>Roberto Bautista Agut</td>\n",
       "      <td>L</td>\n",
       "      <td>36 46</td>\n",
       "      <td>Right-Handed</td>\n",
       "      <td>Two-Handed Backhand</td>\n",
       "      <td>2017-01-02</td>\n",
       "      <td>2017-01-08</td>\n",
       "      <td>6.0</td>\n",
       "    </tr>\n",
       "    <tr>\n",
       "      <th>1764</th>\n",
       "      <td>Daniil Medvedev</td>\n",
       "      <td>Moscow, Russia</td>\n",
       "      <td>198.0</td>\n",
       "      <td>Chennai</td>\n",
       "      <td>Hard</td>\n",
       "      <td>$447,480</td>\n",
       "      <td>Semi-Finals</td>\n",
       "      <td>96.0</td>\n",
       "      <td>Dudi Sela</td>\n",
       "      <td>W</td>\n",
       "      <td>46 76,  62</td>\n",
       "      <td>Right-Handed</td>\n",
       "      <td>Two-Handed Backhand</td>\n",
       "      <td>2017-01-02</td>\n",
       "      <td>2017-01-08</td>\n",
       "      <td>6.0</td>\n",
       "    </tr>\n",
       "    <tr>\n",
       "      <th>1765</th>\n",
       "      <td>Daniil Medvedev</td>\n",
       "      <td>Moscow, Russia</td>\n",
       "      <td>198.0</td>\n",
       "      <td>Chennai</td>\n",
       "      <td>Hard</td>\n",
       "      <td>$447,480</td>\n",
       "      <td>Quarter-Finals</td>\n",
       "      <td>117.0</td>\n",
       "      <td>Jozef Kovalik</td>\n",
       "      <td>W</td>\n",
       "      <td>61 64</td>\n",
       "      <td>Right-Handed</td>\n",
       "      <td>Two-Handed Backhand</td>\n",
       "      <td>2017-01-02</td>\n",
       "      <td>2017-01-08</td>\n",
       "      <td>6.0</td>\n",
       "    </tr>\n",
       "    <tr>\n",
       "      <th>1766</th>\n",
       "      <td>Daniil Medvedev</td>\n",
       "      <td>Moscow, Russia</td>\n",
       "      <td>198.0</td>\n",
       "      <td>Chennai</td>\n",
       "      <td>Hard</td>\n",
       "      <td>$447,480</td>\n",
       "      <td>Round of 16</td>\n",
       "      <td>64.0</td>\n",
       "      <td>Yen-Hsun Lu</td>\n",
       "      <td>W</td>\n",
       "      <td>64 63</td>\n",
       "      <td>Right-Handed</td>\n",
       "      <td>Two-Handed Backhand</td>\n",
       "      <td>2017-01-02</td>\n",
       "      <td>2017-01-08</td>\n",
       "      <td>6.0</td>\n",
       "    </tr>\n",
       "    <tr>\n",
       "      <th>1768</th>\n",
       "      <td>Daniil Medvedev</td>\n",
       "      <td>Moscow, Russia</td>\n",
       "      <td>198.0</td>\n",
       "      <td>Chennai</td>\n",
       "      <td>Hard</td>\n",
       "      <td>$447,480</td>\n",
       "      <td>Round of 32</td>\n",
       "      <td>82.0</td>\n",
       "      <td>Thiago Monteiro</td>\n",
       "      <td>W</td>\n",
       "      <td>63 63</td>\n",
       "      <td>Right-Handed</td>\n",
       "      <td>Two-Handed Backhand</td>\n",
       "      <td>2017-01-02</td>\n",
       "      <td>2017-01-08</td>\n",
       "      <td>6.0</td>\n",
       "    </tr>\n",
       "    <tr>\n",
       "      <th>...</th>\n",
       "      <td>...</td>\n",
       "      <td>...</td>\n",
       "      <td>...</td>\n",
       "      <td>...</td>\n",
       "      <td>...</td>\n",
       "      <td>...</td>\n",
       "      <td>...</td>\n",
       "      <td>...</td>\n",
       "      <td>...</td>\n",
       "      <td>...</td>\n",
       "      <td>...</td>\n",
       "      <td>...</td>\n",
       "      <td>...</td>\n",
       "      <td>...</td>\n",
       "      <td>...</td>\n",
       "      <td>...</td>\n",
       "    </tr>\n",
       "    <tr>\n",
       "      <th>1299669</th>\n",
       "      <td>Lucas Renard</td>\n",
       "      <td>Stockholm, Sweden</td>\n",
       "      <td>185.0</td>\n",
       "      <td>India F8</td>\n",
       "      <td>Hard</td>\n",
       "      <td>$10,000</td>\n",
       "      <td>Round of 16</td>\n",
       "      <td>549.0</td>\n",
       "      <td>Ranjeet Virali-Murugesan</td>\n",
       "      <td>L</td>\n",
       "      <td>26 36</td>\n",
       "      <td>Right-Handed</td>\n",
       "      <td>Two-Handed Backhand</td>\n",
       "      <td>2011-06-06</td>\n",
       "      <td>2011-06-12</td>\n",
       "      <td>6.0</td>\n",
       "    </tr>\n",
       "    <tr>\n",
       "      <th>1299671</th>\n",
       "      <td>Lucas Renard</td>\n",
       "      <td>Stockholm, Sweden</td>\n",
       "      <td>185.0</td>\n",
       "      <td>India F8</td>\n",
       "      <td>Hard</td>\n",
       "      <td>$10,000</td>\n",
       "      <td>Round of 32</td>\n",
       "      <td>1768.0</td>\n",
       "      <td>Yannick Nelord</td>\n",
       "      <td>W</td>\n",
       "      <td>63 75</td>\n",
       "      <td>Right-Handed</td>\n",
       "      <td>Two-Handed Backhand</td>\n",
       "      <td>2011-06-06</td>\n",
       "      <td>2011-06-12</td>\n",
       "      <td>6.0</td>\n",
       "    </tr>\n",
       "    <tr>\n",
       "      <th>1299672</th>\n",
       "      <td>Lucas Renard</td>\n",
       "      <td>Stockholm, Sweden</td>\n",
       "      <td>185.0</td>\n",
       "      <td>India F7</td>\n",
       "      <td>Hard</td>\n",
       "      <td>$10,000</td>\n",
       "      <td>Quarter-Finals</td>\n",
       "      <td>740.0</td>\n",
       "      <td>Vitali Reshetnikov</td>\n",
       "      <td>L</td>\n",
       "      <td>46 06</td>\n",
       "      <td>Right-Handed</td>\n",
       "      <td>Two-Handed Backhand</td>\n",
       "      <td>2011-05-30</td>\n",
       "      <td>2011-06-05</td>\n",
       "      <td>6.0</td>\n",
       "    </tr>\n",
       "    <tr>\n",
       "      <th>1299673</th>\n",
       "      <td>Lucas Renard</td>\n",
       "      <td>Stockholm, Sweden</td>\n",
       "      <td>185.0</td>\n",
       "      <td>India F7</td>\n",
       "      <td>Hard</td>\n",
       "      <td>$10,000</td>\n",
       "      <td>Round of 16</td>\n",
       "      <td>1447.0</td>\n",
       "      <td>Neeraj Elangovan</td>\n",
       "      <td>W</td>\n",
       "      <td>75 62</td>\n",
       "      <td>Right-Handed</td>\n",
       "      <td>Two-Handed Backhand</td>\n",
       "      <td>2011-05-30</td>\n",
       "      <td>2011-06-05</td>\n",
       "      <td>6.0</td>\n",
       "    </tr>\n",
       "    <tr>\n",
       "      <th>1299674</th>\n",
       "      <td>Lucas Renard</td>\n",
       "      <td>Stockholm, Sweden</td>\n",
       "      <td>185.0</td>\n",
       "      <td>India F7</td>\n",
       "      <td>Hard</td>\n",
       "      <td>$10,000</td>\n",
       "      <td>Round of 32</td>\n",
       "      <td>278.0</td>\n",
       "      <td>Nicholas Monroe</td>\n",
       "      <td>W</td>\n",
       "      <td>76,  06 75</td>\n",
       "      <td>Right-Handed</td>\n",
       "      <td>Two-Handed Backhand</td>\n",
       "      <td>2011-05-30</td>\n",
       "      <td>2011-06-05</td>\n",
       "      <td>6.0</td>\n",
       "    </tr>\n",
       "  </tbody>\n",
       "</table>\n",
       "<p>17915 rows × 16 columns</p>\n",
       "</div>"
      ],
      "text/plain": [
       "              PlayerName               Born  Height Tournament Ground  \\\n",
       "1763     Daniil Medvedev     Moscow, Russia   198.0    Chennai   Hard   \n",
       "1764     Daniil Medvedev     Moscow, Russia   198.0    Chennai   Hard   \n",
       "1765     Daniil Medvedev     Moscow, Russia   198.0    Chennai   Hard   \n",
       "1766     Daniil Medvedev     Moscow, Russia   198.0    Chennai   Hard   \n",
       "1768     Daniil Medvedev     Moscow, Russia   198.0    Chennai   Hard   \n",
       "...                  ...                ...     ...        ...    ...   \n",
       "1299669     Lucas Renard  Stockholm, Sweden   185.0   India F8   Hard   \n",
       "1299671     Lucas Renard  Stockholm, Sweden   185.0   India F8   Hard   \n",
       "1299672     Lucas Renard  Stockholm, Sweden   185.0   India F7   Hard   \n",
       "1299673     Lucas Renard  Stockholm, Sweden   185.0   India F7   Hard   \n",
       "1299674     Lucas Renard  Stockholm, Sweden   185.0   India F7   Hard   \n",
       "\n",
       "            Prize       GameRound  GameRank                   Oponent WL  \\\n",
       "1763     $447,480          Finals      14.0     Roberto Bautista Agut  L   \n",
       "1764     $447,480     Semi-Finals      96.0                 Dudi Sela  W   \n",
       "1765     $447,480  Quarter-Finals     117.0             Jozef Kovalik  W   \n",
       "1766     $447,480     Round of 16      64.0               Yen-Hsun Lu  W   \n",
       "1768     $447,480     Round of 32      82.0           Thiago Monteiro  W   \n",
       "...           ...             ...       ...                       ... ..   \n",
       "1299669   $10,000     Round of 16     549.0  Ranjeet Virali-Murugesan  L   \n",
       "1299671   $10,000     Round of 32    1768.0            Yannick Nelord  W   \n",
       "1299672   $10,000  Quarter-Finals     740.0        Vitali Reshetnikov  L   \n",
       "1299673   $10,000     Round of 16    1447.0          Neeraj Elangovan  W   \n",
       "1299674   $10,000     Round of 32     278.0           Nicholas Monroe  W   \n",
       "\n",
       "              Score      Forehand             Backhand Data_inicio Data_final  \\\n",
       "1763          36 46  Right-Handed  Two-Handed Backhand  2017-01-02 2017-01-08   \n",
       "1764     46 76,  62  Right-Handed  Two-Handed Backhand  2017-01-02 2017-01-08   \n",
       "1765          61 64  Right-Handed  Two-Handed Backhand  2017-01-02 2017-01-08   \n",
       "1766          64 63  Right-Handed  Two-Handed Backhand  2017-01-02 2017-01-08   \n",
       "1768          63 63  Right-Handed  Two-Handed Backhand  2017-01-02 2017-01-08   \n",
       "...             ...           ...                  ...         ...        ...   \n",
       "1299669       26 36  Right-Handed  Two-Handed Backhand  2011-06-06 2011-06-12   \n",
       "1299671       63 75  Right-Handed  Two-Handed Backhand  2011-06-06 2011-06-12   \n",
       "1299672       46 06  Right-Handed  Two-Handed Backhand  2011-05-30 2011-06-05   \n",
       "1299673       75 62  Right-Handed  Two-Handed Backhand  2011-05-30 2011-06-05   \n",
       "1299674  76,  06 75  Right-Handed  Two-Handed Backhand  2011-05-30 2011-06-05   \n",
       "\n",
       "         Duração  \n",
       "1763         6.0  \n",
       "1764         6.0  \n",
       "1765         6.0  \n",
       "1766         6.0  \n",
       "1768         6.0  \n",
       "...          ...  \n",
       "1299669      6.0  \n",
       "1299671      6.0  \n",
       "1299672      6.0  \n",
       "1299673      6.0  \n",
       "1299674      6.0  \n",
       "\n",
       "[17915 rows x 16 columns]"
      ]
     },
     "execution_count": 10,
     "metadata": {},
     "output_type": "execute_result"
    }
   ],
   "source": [
    "# alteracao na coluna Duracao feita depois do modelo\n",
    "\n",
    "india.groupby(\"Duração\").count()\n",
    "india.drop(india[india[\"Duração\"] == 7].index)"
   ]
  },
  {
   "cell_type": "code",
   "execution_count": 11,
   "id": "b9a3a4b6",
   "metadata": {},
   "outputs": [],
   "source": [
    "# pegar ranks de todos os jogadores\n",
    "\n",
    "rank = india.drop(['PlayerName', 'Born','Height','Tournament','Ground','Prize','GameRound','Score','Forehand','Backhand','Data_final','Duração','WL'], axis=1)\n",
    "rank = rank.rename(columns={'Oponent': 'PlayerName'})"
   ]
  },
  {
   "cell_type": "code",
   "execution_count": 12,
   "id": "67274065",
   "metadata": {},
   "outputs": [],
   "source": [
    "india = india.merge(rank[['PlayerName', 'GameRank', 'Data_inicio']], on=['PlayerName', 'Data_inicio'], how='left')"
   ]
  },
  {
   "cell_type": "code",
   "execution_count": 13,
   "id": "a5e1fa65",
   "metadata": {},
   "outputs": [],
   "source": [
    "# altura de todos os jogadores\n",
    "\n",
    "height = india.drop(['Born','Tournament','Ground','Prize','GameRound','Score','Forehand','Backhand','Data_final','Duração','WL', 'GameRank_x','GameRank_y','Oponent','Data_inicio'], axis=1)\n",
    "height = height.rename(columns={'PlayerName': 'Oponent'})\n",
    "height = height.drop_duplicates()"
   ]
  },
  {
   "cell_type": "code",
   "execution_count": 14,
   "id": "7badb83d",
   "metadata": {},
   "outputs": [],
   "source": [
    "india = india.merge(height[['Oponent', 'Height']], on=['Oponent'], how='left')"
   ]
  },
  {
   "cell_type": "code",
   "execution_count": 15,
   "id": "d0b7ff7f",
   "metadata": {},
   "outputs": [],
   "source": [
    "# forehand dos dois jogadores\n",
    "\n",
    "forehand = india.drop(['Born','Tournament','Ground','Prize','GameRound','Score','Backhand','Data_final','Duração','WL', 'GameRank_x','GameRank_y','Oponent','Data_inicio', 'Height_x','Height_y'], axis=1)\n",
    "forehand = forehand.rename(columns={'PlayerName': 'Oponent'})\n",
    "forehand = forehand.drop_duplicates()"
   ]
  },
  {
   "cell_type": "code",
   "execution_count": 16,
   "id": "953f76f9",
   "metadata": {},
   "outputs": [],
   "source": [
    "india = india.merge(forehand[['Oponent', 'Forehand']], on=['Oponent'], how='left')"
   ]
  },
  {
   "cell_type": "code",
   "execution_count": 17,
   "id": "70c631a8",
   "metadata": {},
   "outputs": [],
   "source": [
    "# backhand dos dois jogadores\n",
    "\n",
    "backhand = india.drop(['Born','Tournament','Ground','Prize','GameRound','Score','Forehand_x','Forehand_y','Data_final','Duração','WL', 'GameRank_x','GameRank_y','Oponent','Data_inicio', 'Height_x','Height_y'], axis=1)\n",
    "backhand = backhand.rename(columns={'PlayerName': 'Oponent'})\n",
    "backhand = backhand.drop_duplicates()"
   ]
  },
  {
   "cell_type": "code",
   "execution_count": 18,
   "id": "131fa5b2",
   "metadata": {},
   "outputs": [],
   "source": [
    "india = india.merge(backhand[['Oponent', 'Backhand']], on=['Oponent'], how='left')"
   ]
  },
  {
   "cell_type": "code",
   "execution_count": 19,
   "id": "a48d6c90",
   "metadata": {},
   "outputs": [],
   "source": [
    "# country dos dois jogadores\n",
    "\n",
    "country = india.drop(['Tournament','Ground','Prize','GameRound','Score','Backhand_x','Backhand_y','Forehand_x','Forehand_y','Data_final','Duração','WL', 'GameRank_x','GameRank_y','Oponent','Data_inicio', 'Height_x','Height_y'], axis=1)\n",
    "country = country.rename(columns={'PlayerName': 'Oponent'})\n",
    "country= country.drop_duplicates()"
   ]
  },
  {
   "cell_type": "code",
   "execution_count": 20,
   "id": "817a91a8",
   "metadata": {},
   "outputs": [],
   "source": [
    "india = india.merge(country[['Oponent', 'Born']], on=['Oponent'], how='left')"
   ]
  },
  {
   "cell_type": "code",
   "execution_count": 21,
   "id": "52f7268a",
   "metadata": {},
   "outputs": [],
   "source": [
    "# coluna vantagem (criada depois do modelo)\n",
    "\n",
    "india[\"vantagem_playername\"] = india.apply(lambda row: True if (row['GameRank_x'] - 40 > row['GameRank_y'] and row['Height_x'] - 10 > row['Height_y']) else False, axis=1)\n",
    "india[\"vantagem_oponent\"] = india.apply(lambda row: True if (row['GameRank_y'] - 40 > row['GameRank_x'] and row['Height_y'] - 10 > row['Height_x']) else False, axis=1)"
   ]
  },
  {
   "cell_type": "code",
   "execution_count": 22,
   "id": "f0c64ba6",
   "metadata": {},
   "outputs": [
    {
     "data": {
      "text/html": [
       "<div>\n",
       "<style scoped>\n",
       "    .dataframe tbody tr th:only-of-type {\n",
       "        vertical-align: middle;\n",
       "    }\n",
       "\n",
       "    .dataframe tbody tr th {\n",
       "        vertical-align: top;\n",
       "    }\n",
       "\n",
       "    .dataframe thead th {\n",
       "        text-align: right;\n",
       "    }\n",
       "</style>\n",
       "<table border=\"1\" class=\"dataframe\">\n",
       "  <thead>\n",
       "    <tr style=\"text-align: right;\">\n",
       "      <th></th>\n",
       "      <th>PlayerName</th>\n",
       "      <th>Born_x</th>\n",
       "      <th>Height_x</th>\n",
       "      <th>Tournament</th>\n",
       "      <th>Ground</th>\n",
       "      <th>Prize</th>\n",
       "      <th>GameRound</th>\n",
       "      <th>GameRank_x</th>\n",
       "      <th>Oponent</th>\n",
       "      <th>WL</th>\n",
       "      <th>...</th>\n",
       "      <th>Data_inicio</th>\n",
       "      <th>Data_final</th>\n",
       "      <th>Duração</th>\n",
       "      <th>GameRank_y</th>\n",
       "      <th>Height_y</th>\n",
       "      <th>Forehand_y</th>\n",
       "      <th>Backhand_y</th>\n",
       "      <th>Born_y</th>\n",
       "      <th>vantagem_playername</th>\n",
       "      <th>vantagem_oponent</th>\n",
       "    </tr>\n",
       "  </thead>\n",
       "  <tbody>\n",
       "  </tbody>\n",
       "</table>\n",
       "<p>0 rows × 23 columns</p>\n",
       "</div>"
      ],
      "text/plain": [
       "Empty DataFrame\n",
       "Columns: [PlayerName, Born_x, Height_x, Tournament, Ground, Prize, GameRound, GameRank_x, Oponent, WL, Score, Forehand_x, Backhand_x, Data_inicio, Data_final, Duração, GameRank_y, Height_y, Forehand_y, Backhand_y, Born_y, vantagem_playername, vantagem_oponent]\n",
       "Index: []\n",
       "\n",
       "[0 rows x 23 columns]"
      ]
     },
     "execution_count": 22,
     "metadata": {},
     "output_type": "execute_result"
    }
   ],
   "source": [
    "# verificando se existem vantagem para ambos ao mesmo tempo (pois nao deveria existir)\n",
    "\n",
    "resultado = india[(india['vantagem_playername'] == True) & (india['vantagem_oponent'] == True)]\n",
    "resultado"
   ]
  },
  {
   "cell_type": "code",
   "execution_count": 23,
   "id": "e468ef6b",
   "metadata": {},
   "outputs": [],
   "source": [
    "india['vantagem'] = india['vantagem_playername'] != india['vantagem_oponent']"
   ]
  },
  {
   "cell_type": "code",
   "execution_count": 5,
   "id": "46f08cf9",
   "metadata": {},
   "outputs": [],
   "source": [
    "# tirando os duplicados\n",
    "\n",
    "india = india.loc[india[\"WL\"] == \"W\"]\n",
    "india.drop(\"WL\", axis=1, inplace=True)\n",
    "india = india.drop_duplicates()"
   ]
  },
  {
   "cell_type": "code",
   "execution_count": 25,
   "id": "d5b5e57e",
   "metadata": {},
   "outputs": [],
   "source": [
    "# contando os sets\n",
    "\n",
    "india['Sets'] = india['Score'].str.count('\\d')"
   ]
  },
  {
   "cell_type": "code",
   "execution_count": 26,
   "id": "11a7c840",
   "metadata": {},
   "outputs": [],
   "source": [
    "india['Sets'] = india['Sets'].replace(1, 0)\n",
    "india['Sets'] = india['Sets'].replace(7, 6)\n",
    "india['Sets'] = india['Sets'].replace(5, 4)\n",
    "india['Sets'] = india['Sets'].replace(11, 10)\n",
    "india['Sets'] = india['Sets'].replace(3, 4)"
   ]
  },
  {
   "cell_type": "code",
   "execution_count": 27,
   "id": "f72c1030",
   "metadata": {},
   "outputs": [],
   "source": [
    "india['Sets'] = india['Sets'] // 2"
   ]
  },
  {
   "cell_type": "code",
   "execution_count": 28,
   "id": "5e474e5a",
   "metadata": {},
   "outputs": [],
   "source": [
    "# remover linhas de 0,1,4 ou 5 sets\n",
    "\n",
    "mask = india['Sets'].isin([0, 1, 4, 5])\n",
    "india = india.drop(india[mask].index)"
   ]
  },
  {
   "cell_type": "code",
   "execution_count": 29,
   "id": "2c28894c",
   "metadata": {},
   "outputs": [],
   "source": [
    "india.drop(\"Score\", axis=1, inplace=True)"
   ]
  },
  {
   "cell_type": "code",
   "execution_count": 30,
   "id": "c2422fd7",
   "metadata": {},
   "outputs": [],
   "source": [
    "# ajustando coluna prize\n",
    "\n",
    "india['Prize'] = india['Prize'].str.replace('$', '').str.replace(',', '').astype(float)"
   ]
  },
  {
   "cell_type": "code",
   "execution_count": 31,
   "id": "8ffd0e18",
   "metadata": {},
   "outputs": [],
   "source": [
    "# ajustar coluna born\n",
    "\n",
    "def get_country(born):\n",
    "    try:\n",
    "        country = born.split(\", \")[-1]\n",
    "    except:\n",
    "        country = born\n",
    "    return country"
   ]
  },
  {
   "cell_type": "code",
   "execution_count": 32,
   "id": "133cc626",
   "metadata": {},
   "outputs": [],
   "source": [
    "india[\"Country_PlayerName\"] = india[\"Born_x\"].apply(get_country)\n",
    "india[\"Country_Oponent\"] = india[\"Born_y\"].apply(get_country)"
   ]
  },
  {
   "cell_type": "code",
   "execution_count": 33,
   "id": "18ee53a7",
   "metadata": {
    "scrolled": true
   },
   "outputs": [],
   "source": [
    "india['Country_PlayerName'].replace('US', 'USA', inplace=True)\n",
    "india['Country_PlayerName'].replace('U.S.A.', 'USA', inplace=True)\n",
    "india['Country_PlayerName'].replace('NY', 'USA', inplace=True)\n",
    "india['Country_Oponent'].replace('US', 'USA', inplace=True)\n",
    "india['Country_Oponent'].replace('U.S.A.', 'USA', inplace=True)\n",
    "india['Country_Oponent'].replace('NY', 'USA', inplace=True)"
   ]
  },
  {
   "cell_type": "code",
   "execution_count": 34,
   "id": "d8d7b0ba",
   "metadata": {},
   "outputs": [],
   "source": [
    "india.drop('Born_x', axis=1, inplace=True)\n",
    "india.drop('Born_y', axis=1, inplace=True)"
   ]
  },
  {
   "cell_type": "code",
   "execution_count": 35,
   "id": "65dbb5bc",
   "metadata": {},
   "outputs": [],
   "source": [
    "## Limpeza de dados\n",
    "\n",
    "# jogadores de altura nula\n",
    "\n",
    "mean_height_x = int(india['Height_x'].mean())\n",
    "india['Height_x'] = india['Height_x'].fillna(mean_height_x)\n",
    "\n",
    "mean_height_y = int(india['Height_y'].mean())\n",
    "india['Height_y'] = india['Height_y'].fillna(mean_height_y)"
   ]
  },
  {
   "cell_type": "code",
   "execution_count": 36,
   "id": "5deb0764",
   "metadata": {},
   "outputs": [],
   "source": [
    "# prize\n",
    "\n",
    "median_prize = int(india['Prize'].median())\n",
    "india['Prize'] = india['Prize'].fillna(median_prize)"
   ]
  },
  {
   "cell_type": "code",
   "execution_count": 37,
   "id": "5ffbe6b8",
   "metadata": {},
   "outputs": [],
   "source": [
    "# paises nulos\n",
    "\n",
    "india['Country_PlayerName'] = india['Country_PlayerName'].fillna('Unknown')\n",
    "india['Country_Oponent'] = india['Country_Oponent'].fillna('Unknown')"
   ]
  },
  {
   "cell_type": "code",
   "execution_count": 38,
   "id": "56d1240f",
   "metadata": {},
   "outputs": [],
   "source": [
    "# game rank\n",
    "\n",
    "mean_gamerank_x = int(india['GameRank_x'].mean())\n",
    "india['GameRank_x'] = india['GameRank_x'].fillna(mean_gamerank_x)\n",
    "\n",
    "mean_gamerank_y = int(india['GameRank_y'].mean())\n",
    "india['GameRank_y'] = india['GameRank_y'].fillna(mean_gamerank_y)"
   ]
  },
  {
   "cell_type": "code",
   "execution_count": 39,
   "id": "eeb3cad1",
   "metadata": {},
   "outputs": [],
   "source": [
    "# hand\n",
    "\n",
    "# forehand\n",
    "\n",
    "india['Forehand_x'] = india['Forehand_x'].fillna('Unknown Forehand')\n",
    "india['Forehand_y'] = india['Forehand_y'].fillna('Unknown Forehand')\n",
    "\n",
    "# backhand\n",
    "\n",
    "india['Backhand_x'] = india['Backhand_x'].fillna('Unknown Backhand')\n",
    "india['Backhand_y'] = india['Backhand_y'].fillna('Unknown Backhand')"
   ]
  },
  {
   "cell_type": "code",
   "execution_count": 40,
   "id": "b46f3df2",
   "metadata": {},
   "outputs": [],
   "source": [
    "# removendo nulos que sobraram na \"Data_final\"\n",
    "\n",
    "india.dropna(inplace=True)"
   ]
  },
  {
   "cell_type": "code",
   "execution_count": 41,
   "id": "7c0de85d",
   "metadata": {},
   "outputs": [],
   "source": [
    "# criando coluna da diferença das alturas\n",
    "\n",
    "india['Height_diff'] = abs(india['Height_x'] - india['Height_y'])"
   ]
  },
  {
   "cell_type": "code",
   "execution_count": 42,
   "id": "19eae9c3",
   "metadata": {},
   "outputs": [],
   "source": [
    "# criando coluna da diferença dos ranks\n",
    "\n",
    "india['Rank_diff'] = abs(india['GameRank_x'] - india['GameRank_y'])"
   ]
  },
  {
   "cell_type": "code",
   "execution_count": 43,
   "id": "775bea15",
   "metadata": {},
   "outputs": [],
   "source": [
    "# criando coluna que indica se pelo menos um dos jogadores é indiano ou nao\n",
    "\n",
    "india['India'] = ((india['Country_PlayerName'] == \"India\") | (india['Country_Oponent'] == \"India\"))"
   ]
  },
  {
   "cell_type": "code",
   "execution_count": 44,
   "id": "10dcc3ee",
   "metadata": {},
   "outputs": [],
   "source": [
    "# criando coluna que indica se os jogadores tem a mesma forehand ou nao\n",
    "\n",
    "india['Same_forehand'] = india['Forehand_x'] == india['Forehand_y']"
   ]
  },
  {
   "cell_type": "code",
   "execution_count": 45,
   "id": "ef8fc065",
   "metadata": {},
   "outputs": [],
   "source": [
    "# criando coluna que indica se os jogadores tem a mesma backhand ou nao\n",
    "\n",
    "india['Same_backhand'] = india['Backhand_x'] == india['Backhand_y']"
   ]
  },
  {
   "cell_type": "code",
   "execution_count": 46,
   "id": "ae109fcb",
   "metadata": {},
   "outputs": [],
   "source": [
    "# criando coluna que indica se os dois jogadores sao de paises de tradicao ou nao\n",
    "\n",
    "india['Country_PlayerName'] = np.where(india['Country_PlayerName'].isin(['USA', 'Spain', 'France', 'United Kingdom', 'Russia']), 1, 0)\n",
    "india['Country_Oponent'] = np.where(india['Country_Oponent'].isin(['USA', 'Spain', 'France', 'United Kingdom', 'Russia']), 1, 0)"
   ]
  },
  {
   "cell_type": "code",
   "execution_count": 47,
   "id": "ea35607c",
   "metadata": {},
   "outputs": [],
   "source": [
    "india['Same_Country'] = (india['Country_PlayerName'] == india['Country_Oponent'])\n",
    "india.drop(['Country_PlayerName','Country_Oponent'], axis=1, inplace=True)"
   ]
  },
  {
   "cell_type": "code",
   "execution_count": 48,
   "id": "ee63251d",
   "metadata": {},
   "outputs": [],
   "source": [
    "# coluna que indica se pode ser um jogo disputado ou nao (depois do modelo)\n",
    "\n",
    "india['equilibrio'] = india.apply(lambda row: True if (row[\"Same_Country\"]  == True and row[\"Rank_diff\"] <= 40) else False, axis = 1)"
   ]
  },
  {
   "cell_type": "code",
   "execution_count": 49,
   "id": "5f281ac6",
   "metadata": {},
   "outputs": [],
   "source": [
    "# criando um schema para a base de dados \n",
    "# ou seja, atribuindo um tipo de dados para cada coluna (variavel)\n",
    "\n",
    "schema = {\"PlayerName\": \"string\",\n",
    "         \"Height_x\": \"int64\",\n",
    "          \"Height_y\": \"int64\",\n",
    "          \"Tournament\": \"string\",\n",
    "          \"Ground\": \"string\",\n",
    "          \"Prize\": \"int64\",\n",
    "          \"GameRound\": \"string\",\n",
    "          \"GameRank_x\": \"int64\",\n",
    "          \"GameRank_y\": \"int64\",\n",
    "          \"Oponent\": \"string\",\n",
    "          \"Forehand_x\": \"category\",\n",
    "          \"Forehand_y\": \"category\",\n",
    "          \"Backhand_x\": \"category\",\n",
    "          \"Backhand_y\": \"category\",\n",
    "          \"Data_inicio\": \"datetime64[ns]\",\n",
    "          \"Data_final\": \"datetime64[ns]\",\n",
    "          \"Duração\": \"int64\",\n",
    "          \"Sets\": \"category\",\n",
    "          \"Same_Country\": \"category\",\n",
    "          \"Rank_diff\": \"int64\",\n",
    "          \"Height_diff\":\"int64\"\n",
    "         }"
   ]
  },
  {
   "cell_type": "code",
   "execution_count": 50,
   "id": "c65a081e",
   "metadata": {},
   "outputs": [],
   "source": [
    "india = india.astype(schema)"
   ]
  },
  {
   "cell_type": "code",
   "execution_count": 51,
   "id": "1e057fa6",
   "metadata": {},
   "outputs": [],
   "source": [
    "## Analises\n",
    "\n",
    "# Sets por GameRank\n",
    "\n",
    "media_por_set_gamerank = india.groupby('Sets')['Rank_diff'].mean()"
   ]
  },
  {
   "cell_type": "code",
   "execution_count": 52,
   "id": "4113823b",
   "metadata": {},
   "outputs": [
    {
     "data": {
      "text/plain": [
       "Text(0.5, 1.0, 'Sets por Rank_diff')"
      ]
     },
     "execution_count": 52,
     "metadata": {},
     "output_type": "execute_result"
    },
    {
     "data": {
      "image/png": "[encoded data removed]",
      "text/plain": [
       "<Figure size 432x288 with 1 Axes>"
      ]
     },
     "metadata": {
      "needs_background": "light"
     },
     "output_type": "display_data"
    }
   ],
   "source": [
    "media_por_set_gamerank.plot(x='Sets', y='Rank_diff', kind='bar')\n",
    "plt.xlabel('Número de Sets')\n",
    "plt.ylabel('Média dos Rank_diff')\n",
    "plt.title('Sets por Rank_diff')"
   ]
  },
  {
   "cell_type": "code",
   "execution_count": 6,
   "id": "28d67b83",
   "metadata": {},
   "outputs": [
    {
     "data": {
      "text/html": [
       "<div>\n",
       "<style scoped>\n",
       "    .dataframe tbody tr th:only-of-type {\n",
       "        vertical-align: middle;\n",
       "    }\n",
       "\n",
       "    .dataframe tbody tr th {\n",
       "        vertical-align: top;\n",
       "    }\n",
       "\n",
       "    .dataframe thead th {\n",
       "        text-align: right;\n",
       "    }\n",
       "</style>\n",
       "<table border=\"1\" class=\"dataframe\">\n",
       "  <thead>\n",
       "    <tr style=\"text-align: right;\">\n",
       "      <th></th>\n",
       "      <th>PlayerName</th>\n",
       "      <th>Born</th>\n",
       "      <th>Height</th>\n",
       "      <th>Hand</th>\n",
       "      <th>Tournament</th>\n",
       "      <th>Date</th>\n",
       "      <th>Ground</th>\n",
       "      <th>Prize</th>\n",
       "      <th>GameRound</th>\n",
       "      <th>GameRank</th>\n",
       "      <th>Oponent</th>\n",
       "      <th>Score</th>\n",
       "    </tr>\n",
       "  </thead>\n",
       "  <tbody>\n",
       "    <tr>\n",
       "      <th>1764</th>\n",
       "      <td>Daniil Medvedev</td>\n",
       "      <td>Moscow, Russia</td>\n",
       "      <td>198</td>\n",
       "      <td>Right-Handed, Two-Handed Backhand</td>\n",
       "      <td>Chennai</td>\n",
       "      <td>2017.01.02 - 2017.01.08</td>\n",
       "      <td>Hard</td>\n",
       "      <td>$447,480</td>\n",
       "      <td>Semi-Finals</td>\n",
       "      <td>96</td>\n",
       "      <td>Dudi Sela</td>\n",
       "      <td>46 76,  62</td>\n",
       "    </tr>\n",
       "    <tr>\n",
       "      <th>1765</th>\n",
       "      <td>Daniil Medvedev</td>\n",
       "      <td>Moscow, Russia</td>\n",
       "      <td>198</td>\n",
       "      <td>Right-Handed, Two-Handed Backhand</td>\n",
       "      <td>Chennai</td>\n",
       "      <td>2017.01.02 - 2017.01.08</td>\n",
       "      <td>Hard</td>\n",
       "      <td>$447,480</td>\n",
       "      <td>Quarter-Finals</td>\n",
       "      <td>117</td>\n",
       "      <td>Jozef Kovalik</td>\n",
       "      <td>61 64</td>\n",
       "    </tr>\n",
       "    <tr>\n",
       "      <th>1766</th>\n",
       "      <td>Daniil Medvedev</td>\n",
       "      <td>Moscow, Russia</td>\n",
       "      <td>198</td>\n",
       "      <td>Right-Handed, Two-Handed Backhand</td>\n",
       "      <td>Chennai</td>\n",
       "      <td>2017.01.02 - 2017.01.08</td>\n",
       "      <td>Hard</td>\n",
       "      <td>$447,480</td>\n",
       "      <td>Round of 16</td>\n",
       "      <td>64</td>\n",
       "      <td>Yen-Hsun Lu</td>\n",
       "      <td>64 63</td>\n",
       "    </tr>\n",
       "    <tr>\n",
       "      <th>1768</th>\n",
       "      <td>Daniil Medvedev</td>\n",
       "      <td>Moscow, Russia</td>\n",
       "      <td>198</td>\n",
       "      <td>Right-Handed, Two-Handed Backhand</td>\n",
       "      <td>Chennai</td>\n",
       "      <td>2017.01.02 - 2017.01.08</td>\n",
       "      <td>Hard</td>\n",
       "      <td>$447,480</td>\n",
       "      <td>Round of 32</td>\n",
       "      <td>82</td>\n",
       "      <td>Thiago Monteiro</td>\n",
       "      <td>63 63</td>\n",
       "    </tr>\n",
       "    <tr>\n",
       "      <th>3044</th>\n",
       "      <td>Rafael Nadal</td>\n",
       "      <td>Manacor, Mallorca, Spain</td>\n",
       "      <td>185</td>\n",
       "      <td>Left-Handed, Two-Handed Backhand</td>\n",
       "      <td>Chennai</td>\n",
       "      <td>2007.12.31 - 2008.01.06</td>\n",
       "      <td>Hard</td>\n",
       "      <td>$411,000</td>\n",
       "      <td>Semi-Finals</td>\n",
       "      <td>17</td>\n",
       "      <td>Carlos Moya</td>\n",
       "      <td>67,  76,  76</td>\n",
       "    </tr>\n",
       "  </tbody>\n",
       "</table>\n",
       "</div>"
      ],
      "text/plain": [
       "           PlayerName                      Born Height  \\\n",
       "1764  Daniil Medvedev            Moscow, Russia    198   \n",
       "1765  Daniil Medvedev            Moscow, Russia    198   \n",
       "1766  Daniil Medvedev            Moscow, Russia    198   \n",
       "1768  Daniil Medvedev            Moscow, Russia    198   \n",
       "3044     Rafael Nadal  Manacor, Mallorca, Spain    185   \n",
       "\n",
       "                                   Hand Tournament                     Date  \\\n",
       "1764  Right-Handed, Two-Handed Backhand    Chennai  2017.01.02 - 2017.01.08   \n",
       "1765  Right-Handed, Two-Handed Backhand    Chennai  2017.01.02 - 2017.01.08   \n",
       "1766  Right-Handed, Two-Handed Backhand    Chennai  2017.01.02 - 2017.01.08   \n",
       "1768  Right-Handed, Two-Handed Backhand    Chennai  2017.01.02 - 2017.01.08   \n",
       "3044   Left-Handed, Two-Handed Backhand    Chennai  2007.12.31 - 2008.01.06   \n",
       "\n",
       "     Ground     Prize       GameRound GameRank          Oponent         Score  \n",
       "1764   Hard  $447,480     Semi-Finals       96        Dudi Sela    46 76,  62  \n",
       "1765   Hard  $447,480  Quarter-Finals      117    Jozef Kovalik         61 64  \n",
       "1766   Hard  $447,480     Round of 16       64      Yen-Hsun Lu         64 63  \n",
       "1768   Hard  $447,480     Round of 32       82  Thiago Monteiro         63 63  \n",
       "3044   Hard  $411,000     Semi-Finals       17      Carlos Moya  67,  76,  76  "
      ]
     },
     "execution_count": 6,
     "metadata": {},
     "output_type": "execute_result"
    }
   ],
   "source": [
    "india.head()"
   ]
  },
  {
   "cell_type": "code",
   "execution_count": 53,
   "id": "52737ae1",
   "metadata": {},
   "outputs": [],
   "source": [
    "# prizes por edicao\n",
    "\n",
    "intervalos = [0, 100000, 200000, 300000, 400000, 500000, 600000]\n",
    "india['Intervalo_Prize'] = pd.cut(india['Prize'], intervalos)"
   ]
  },
  {
   "cell_type": "code",
   "execution_count": 7,
   "id": "97b1058f",
   "metadata": {},
   "outputs": [],
   "source": [
    "# pegando somente as finais, para ver quantas ediçoes diferentes aconteceram \n",
    "# base de dados somente com as finais dos torneios \n",
    "\n",
    "finais = india.loc[india[\"GameRound\"] == \"Finals\"]"
   ]
  },
  {
   "cell_type": "code",
   "execution_count": 10,
   "id": "a782ad89",
   "metadata": {},
   "outputs": [
    {
     "data": {
      "text/plain": [
       "Finals    266\n",
       "Name: GameRound, dtype: int64"
      ]
     },
     "execution_count": 10,
     "metadata": {},
     "output_type": "execute_result"
    }
   ],
   "source": [
    "finais[\"GameRound\"].value_counts()"
   ]
  },
  {
   "cell_type": "code",
   "execution_count": 8,
   "id": "f2fc92e6",
   "metadata": {},
   "outputs": [
    {
     "ename": "KeyError",
     "evalue": "'Intervalo_Prize'",
     "output_type": "error",
     "traceback": [
      "\u001b[1;31m---------------------------------------------------------------------------\u001b[0m",
      "\u001b[1;31mKeyError\u001b[0m                                  Traceback (most recent call last)",
      "\u001b[1;32m~\\anaconda3\\lib\\site-packages\\pandas\\core\\indexes\\base.py\u001b[0m in \u001b[0;36mget_loc\u001b[1;34m(self, key, method, tolerance)\u001b[0m\n\u001b[0;32m   3360\u001b[0m             \u001b[1;32mtry\u001b[0m\u001b[1;33m:\u001b[0m\u001b[1;33m\u001b[0m\u001b[1;33m\u001b[0m\u001b[0m\n\u001b[1;32m-> 3361\u001b[1;33m                 \u001b[1;32mreturn\u001b[0m \u001b[0mself\u001b[0m\u001b[1;33m.\u001b[0m\u001b[0m_engine\u001b[0m\u001b[1;33m.\u001b[0m\u001b[0mget_loc\u001b[0m\u001b[1;33m(\u001b[0m\u001b[0mcasted_key\u001b[0m\u001b[1;33m)\u001b[0m\u001b[1;33m\u001b[0m\u001b[1;33m\u001b[0m\u001b[0m\n\u001b[0m\u001b[0;32m   3362\u001b[0m             \u001b[1;32mexcept\u001b[0m \u001b[0mKeyError\u001b[0m \u001b[1;32mas\u001b[0m \u001b[0merr\u001b[0m\u001b[1;33m:\u001b[0m\u001b[1;33m\u001b[0m\u001b[1;33m\u001b[0m\u001b[0m\n",
      "\u001b[1;32m~\\anaconda3\\lib\\site-packages\\pandas\\_libs\\index.pyx\u001b[0m in \u001b[0;36mpandas._libs.index.IndexEngine.get_loc\u001b[1;34m()\u001b[0m\n",
      "\u001b[1;32m~\\anaconda3\\lib\\site-packages\\pandas\\_libs\\index.pyx\u001b[0m in \u001b[0;36mpandas._libs.index.IndexEngine.get_loc\u001b[1;34m()\u001b[0m\n",
      "\u001b[1;32mpandas\\_libs\\hashtable_class_helper.pxi\u001b[0m in \u001b[0;36mpandas._libs.hashtable.PyObjectHashTable.get_item\u001b[1;34m()\u001b[0m\n",
      "\u001b[1;32mpandas\\_libs\\hashtable_class_helper.pxi\u001b[0m in \u001b[0;36mpandas._libs.hashtable.PyObjectHashTable.get_item\u001b[1;34m()\u001b[0m\n",
      "\u001b[1;31mKeyError\u001b[0m: 'Intervalo_Prize'",
      "\nThe above exception was the direct cause of the following exception:\n",
      "\u001b[1;31mKeyError\u001b[0m                                  Traceback (most recent call last)",
      "\u001b[1;32m~\\AppData\\Local\\Temp/ipykernel_13784/2147533966.py\u001b[0m in \u001b[0;36m<module>\u001b[1;34m\u001b[0m\n\u001b[1;32m----> 1\u001b[1;33m \u001b[0mfinais1\u001b[0m \u001b[1;33m=\u001b[0m \u001b[0mfinais\u001b[0m\u001b[1;33m[\u001b[0m\u001b[1;34m'Intervalo_Prize'\u001b[0m\u001b[1;33m]\u001b[0m\u001b[1;33m.\u001b[0m\u001b[0mvalue_counts\u001b[0m\u001b[1;33m(\u001b[0m\u001b[1;33m)\u001b[0m\u001b[1;33m\u001b[0m\u001b[1;33m\u001b[0m\u001b[0m\n\u001b[0m",
      "\u001b[1;32m~\\anaconda3\\lib\\site-packages\\pandas\\core\\frame.py\u001b[0m in \u001b[0;36m__getitem__\u001b[1;34m(self, key)\u001b[0m\n\u001b[0;32m   3456\u001b[0m             \u001b[1;32mif\u001b[0m \u001b[0mself\u001b[0m\u001b[1;33m.\u001b[0m\u001b[0mcolumns\u001b[0m\u001b[1;33m.\u001b[0m\u001b[0mnlevels\u001b[0m \u001b[1;33m>\u001b[0m \u001b[1;36m1\u001b[0m\u001b[1;33m:\u001b[0m\u001b[1;33m\u001b[0m\u001b[1;33m\u001b[0m\u001b[0m\n\u001b[0;32m   3457\u001b[0m                 \u001b[1;32mreturn\u001b[0m \u001b[0mself\u001b[0m\u001b[1;33m.\u001b[0m\u001b[0m_getitem_multilevel\u001b[0m\u001b[1;33m(\u001b[0m\u001b[0mkey\u001b[0m\u001b[1;33m)\u001b[0m\u001b[1;33m\u001b[0m\u001b[1;33m\u001b[0m\u001b[0m\n\u001b[1;32m-> 3458\u001b[1;33m             \u001b[0mindexer\u001b[0m \u001b[1;33m=\u001b[0m \u001b[0mself\u001b[0m\u001b[1;33m.\u001b[0m\u001b[0mcolumns\u001b[0m\u001b[1;33m.\u001b[0m\u001b[0mget_loc\u001b[0m\u001b[1;33m(\u001b[0m\u001b[0mkey\u001b[0m\u001b[1;33m)\u001b[0m\u001b[1;33m\u001b[0m\u001b[1;33m\u001b[0m\u001b[0m\n\u001b[0m\u001b[0;32m   3459\u001b[0m             \u001b[1;32mif\u001b[0m \u001b[0mis_integer\u001b[0m\u001b[1;33m(\u001b[0m\u001b[0mindexer\u001b[0m\u001b[1;33m)\u001b[0m\u001b[1;33m:\u001b[0m\u001b[1;33m\u001b[0m\u001b[1;33m\u001b[0m\u001b[0m\n\u001b[0;32m   3460\u001b[0m                 \u001b[0mindexer\u001b[0m \u001b[1;33m=\u001b[0m \u001b[1;33m[\u001b[0m\u001b[0mindexer\u001b[0m\u001b[1;33m]\u001b[0m\u001b[1;33m\u001b[0m\u001b[1;33m\u001b[0m\u001b[0m\n",
      "\u001b[1;32m~\\anaconda3\\lib\\site-packages\\pandas\\core\\indexes\\base.py\u001b[0m in \u001b[0;36mget_loc\u001b[1;34m(self, key, method, tolerance)\u001b[0m\n\u001b[0;32m   3361\u001b[0m                 \u001b[1;32mreturn\u001b[0m \u001b[0mself\u001b[0m\u001b[1;33m.\u001b[0m\u001b[0m_engine\u001b[0m\u001b[1;33m.\u001b[0m\u001b[0mget_loc\u001b[0m\u001b[1;33m(\u001b[0m\u001b[0mcasted_key\u001b[0m\u001b[1;33m)\u001b[0m\u001b[1;33m\u001b[0m\u001b[1;33m\u001b[0m\u001b[0m\n\u001b[0;32m   3362\u001b[0m             \u001b[1;32mexcept\u001b[0m \u001b[0mKeyError\u001b[0m \u001b[1;32mas\u001b[0m \u001b[0merr\u001b[0m\u001b[1;33m:\u001b[0m\u001b[1;33m\u001b[0m\u001b[1;33m\u001b[0m\u001b[0m\n\u001b[1;32m-> 3363\u001b[1;33m                 \u001b[1;32mraise\u001b[0m \u001b[0mKeyError\u001b[0m\u001b[1;33m(\u001b[0m\u001b[0mkey\u001b[0m\u001b[1;33m)\u001b[0m \u001b[1;32mfrom\u001b[0m \u001b[0merr\u001b[0m\u001b[1;33m\u001b[0m\u001b[1;33m\u001b[0m\u001b[0m\n\u001b[0m\u001b[0;32m   3364\u001b[0m \u001b[1;33m\u001b[0m\u001b[0m\n\u001b[0;32m   3365\u001b[0m         \u001b[1;32mif\u001b[0m \u001b[0mis_scalar\u001b[0m\u001b[1;33m(\u001b[0m\u001b[0mkey\u001b[0m\u001b[1;33m)\u001b[0m \u001b[1;32mand\u001b[0m \u001b[0misna\u001b[0m\u001b[1;33m(\u001b[0m\u001b[0mkey\u001b[0m\u001b[1;33m)\u001b[0m \u001b[1;32mand\u001b[0m \u001b[1;32mnot\u001b[0m \u001b[0mself\u001b[0m\u001b[1;33m.\u001b[0m\u001b[0mhasnans\u001b[0m\u001b[1;33m:\u001b[0m\u001b[1;33m\u001b[0m\u001b[1;33m\u001b[0m\u001b[0m\n",
      "\u001b[1;31mKeyError\u001b[0m: 'Intervalo_Prize'"
     ]
    }
   ],
   "source": [
    "finais1 = finais['Intervalo_Prize'].value_counts()"
   ]
  },
  {
   "cell_type": "code",
   "execution_count": 56,
   "id": "7374b466",
   "metadata": {},
   "outputs": [
    {
     "data": {
      "text/plain": [
       "<AxesSubplot:ylabel='Intervalo_Prize'>"
      ]
     },
     "execution_count": 56,
     "metadata": {},
     "output_type": "execute_result"
    },
    {
     "data": {
      "image/png": "[encoded data removed]",
      "text/plain": [
       "<Figure size 432x288 with 1 Axes>"
      ]
     },
     "metadata": {},
     "output_type": "display_data"
    }
   ],
   "source": [
    "finais1.plot(kind='pie', labels=None, legend=True, autopct='%1.1f%%', pctdistance=1.2, radius=2.8)"
   ]
  },
  {
   "cell_type": "code",
   "execution_count": 56,
   "id": "b77c8d7f",
   "metadata": {},
   "outputs": [],
   "source": [
    "cross_tab = pd.crosstab(india['GameRound'], [india['Sets'][india['Sets'].isin([2, 3])]])\n",
    "cross_tab = cross_tab.drop('Round Robin', axis=0)\n",
    "cross_tab = cross_tab.reindex(['1st Round Qualifying', '2nd Round Qualifying', '3rd Round Qualifying', 'Round of 64', 'Round of 32', 'Round of 16', 'Quarter-Finals','Semi-Finals','Finals'])"
   ]
  },
  {
   "cell_type": "code",
   "execution_count": 57,
   "id": "8b620dfc",
   "metadata": {},
   "outputs": [
    {
     "data": {
      "text/html": [
       "<div>\n",
       "<style scoped>\n",
       "    .dataframe tbody tr th:only-of-type {\n",
       "        vertical-align: middle;\n",
       "    }\n",
       "\n",
       "    .dataframe tbody tr th {\n",
       "        vertical-align: top;\n",
       "    }\n",
       "\n",
       "    .dataframe thead th {\n",
       "        text-align: right;\n",
       "    }\n",
       "</style>\n",
       "<table border=\"1\" class=\"dataframe\">\n",
       "  <thead>\n",
       "    <tr style=\"text-align: right;\">\n",
       "      <th>Sets</th>\n",
       "      <th>2</th>\n",
       "      <th>3</th>\n",
       "    </tr>\n",
       "    <tr>\n",
       "      <th>GameRound</th>\n",
       "      <th></th>\n",
       "      <th></th>\n",
       "    </tr>\n",
       "  </thead>\n",
       "  <tbody>\n",
       "    <tr>\n",
       "      <th>1st Round Qualifying</th>\n",
       "      <td>0.74</td>\n",
       "      <td>0.26</td>\n",
       "    </tr>\n",
       "    <tr>\n",
       "      <th>2nd Round Qualifying</th>\n",
       "      <td>0.76</td>\n",
       "      <td>0.24</td>\n",
       "    </tr>\n",
       "    <tr>\n",
       "      <th>3rd Round Qualifying</th>\n",
       "      <td>0.68</td>\n",
       "      <td>0.32</td>\n",
       "    </tr>\n",
       "    <tr>\n",
       "      <th>Round of 64</th>\n",
       "      <td>0.71</td>\n",
       "      <td>0.29</td>\n",
       "    </tr>\n",
       "    <tr>\n",
       "      <th>Round of 32</th>\n",
       "      <td>0.74</td>\n",
       "      <td>0.26</td>\n",
       "    </tr>\n",
       "    <tr>\n",
       "      <th>Round of 16</th>\n",
       "      <td>0.71</td>\n",
       "      <td>0.29</td>\n",
       "    </tr>\n",
       "    <tr>\n",
       "      <th>Quarter-Finals</th>\n",
       "      <td>0.69</td>\n",
       "      <td>0.31</td>\n",
       "    </tr>\n",
       "    <tr>\n",
       "      <th>Semi-Finals</th>\n",
       "      <td>0.66</td>\n",
       "      <td>0.34</td>\n",
       "    </tr>\n",
       "    <tr>\n",
       "      <th>Finals</th>\n",
       "      <td>0.70</td>\n",
       "      <td>0.30</td>\n",
       "    </tr>\n",
       "  </tbody>\n",
       "</table>\n",
       "</div>"
      ],
      "text/plain": [
       "Sets                     2     3\n",
       "GameRound                       \n",
       "1st Round Qualifying  0.74  0.26\n",
       "2nd Round Qualifying  0.76  0.24\n",
       "3rd Round Qualifying  0.68  0.32\n",
       "Round of 64           0.71  0.29\n",
       "Round of 32           0.74  0.26\n",
       "Round of 16           0.71  0.29\n",
       "Quarter-Finals        0.69  0.31\n",
       "Semi-Finals           0.66  0.34\n",
       "Finals                0.70  0.30"
      ]
     },
     "execution_count": 57,
     "metadata": {},
     "output_type": "execute_result"
    }
   ],
   "source": [
    "crosstab_pct = cross_tab.apply(lambda r: r/r.sum(), axis=1)\n",
    "crosstab_pct = crosstab_pct.apply(lambda r: round(r, 2), axis=0)\n",
    "crosstab_pct"
   ]
  },
  {
   "cell_type": "code",
   "execution_count": 58,
   "id": "12c105ec",
   "metadata": {},
   "outputs": [
    {
     "data": {
      "image/png": "[encoded data removed]",
      "text/plain": [
       "<Figure size 720x432 with 1 Axes>"
      ]
     },
     "metadata": {
      "needs_background": "light"
     },
     "output_type": "display_data"
    }
   ],
   "source": [
    "ax = crosstab_pct.plot.bar(figsize=(10,6))"
   ]
  },
  {
   "cell_type": "code",
   "execution_count": 60,
   "id": "87061a80",
   "metadata": {},
   "outputs": [
    {
     "data": {
      "text/plain": [
       "<AxesSubplot:xlabel='Same_forehand'>"
      ]
     },
     "execution_count": 60,
     "metadata": {},
     "output_type": "execute_result"
    },
    {
     "data": {
      "image/png": "[encoded data removed]",
      "text/plain": [
       "<Figure size 720x432 with 1 Axes>"
      ]
     },
     "metadata": {
      "needs_background": "light"
     },
     "output_type": "display_data"
    }
   ],
   "source": [
    "# Same_forehand\n",
    "\n",
    "cross_tab1 = pd.crosstab(india['Same_forehand'], [india['Sets']])\n",
    "crosstab_pct1 = cross_tab1.apply(lambda r: r/r.sum(), axis=1)\n",
    "crosstab_pct1 = crosstab_pct1.apply(lambda r: round(r, 2), axis=0)\n",
    "crosstab_pct1.plot.bar(figsize=(10,6))"
   ]
  },
  {
   "cell_type": "code",
   "execution_count": 61,
   "id": "f220719d",
   "metadata": {},
   "outputs": [
    {
     "data": {
      "text/plain": [
       "<AxesSubplot:xlabel='Same_backhand'>"
      ]
     },
     "execution_count": 61,
     "metadata": {},
     "output_type": "execute_result"
    },
    {
     "data": {
      "image/png": "[encoded data removed]",
      "text/plain": [
       "<Figure size 720x432 with 1 Axes>"
      ]
     },
     "metadata": {
      "needs_background": "light"
     },
     "output_type": "display_data"
    }
   ],
   "source": [
    "# Same_backhand\n",
    "\n",
    "cross_tab2 = pd.crosstab(india['Same_backhand'], [india['Sets']])\n",
    "crosstab_pct2 = cross_tab2.apply(lambda r: r/r.sum(), axis=1)\n",
    "crosstab_pct2 = crosstab_pct2.apply(lambda r: round(r, 2), axis=0)\n",
    "crosstab_pct2.plot.bar(figsize=(10,6))"
   ]
  },
  {
   "cell_type": "code",
   "execution_count": 62,
   "id": "72127783",
   "metadata": {},
   "outputs": [
    {
     "data": {
      "text/plain": [
       "<AxesSubplot:xlabel='India'>"
      ]
     },
     "execution_count": 62,
     "metadata": {},
     "output_type": "execute_result"
    },
    {
     "data": {
      "image/png": "[encoded data removed]",
      "text/plain": [
       "<Figure size 720x432 with 1 Axes>"
      ]
     },
     "metadata": {
      "needs_background": "light"
     },
     "output_type": "display_data"
    }
   ],
   "source": [
    "# India\n",
    "\n",
    "cross_tab4 = pd.crosstab(india['India'], [india['Sets']])\n",
    "crosstab_pct4 = cross_tab4.apply(lambda r: r/r.sum(), axis=1)\n",
    "crosstab_pct4 = crosstab_pct4.apply(lambda r: round(r, 2), axis=0)\n",
    "crosstab_pct4.plot.bar(figsize=(10,6))"
   ]
  },
  {
   "cell_type": "code",
   "execution_count": 63,
   "id": "06ffa333",
   "metadata": {},
   "outputs": [
    {
     "data": {
      "text/html": [
       "<div>\n",
       "<style scoped>\n",
       "    .dataframe tbody tr th:only-of-type {\n",
       "        vertical-align: middle;\n",
       "    }\n",
       "\n",
       "    .dataframe tbody tr th {\n",
       "        vertical-align: top;\n",
       "    }\n",
       "\n",
       "    .dataframe thead th {\n",
       "        text-align: right;\n",
       "    }\n",
       "</style>\n",
       "<table border=\"1\" class=\"dataframe\">\n",
       "  <thead>\n",
       "    <tr style=\"text-align: right;\">\n",
       "      <th>Sets</th>\n",
       "      <th>2</th>\n",
       "      <th>3</th>\n",
       "    </tr>\n",
       "    <tr>\n",
       "      <th>India</th>\n",
       "      <th></th>\n",
       "      <th></th>\n",
       "    </tr>\n",
       "  </thead>\n",
       "  <tbody>\n",
       "    <tr>\n",
       "      <th>False</th>\n",
       "      <td>0.71</td>\n",
       "      <td>0.29</td>\n",
       "    </tr>\n",
       "    <tr>\n",
       "      <th>True</th>\n",
       "      <td>0.72</td>\n",
       "      <td>0.28</td>\n",
       "    </tr>\n",
       "  </tbody>\n",
       "</table>\n",
       "</div>"
      ],
      "text/plain": [
       "Sets      2     3\n",
       "India            \n",
       "False  0.71  0.29\n",
       "True   0.72  0.28"
      ]
     },
     "execution_count": 63,
     "metadata": {},
     "output_type": "execute_result"
    }
   ],
   "source": [
    "crosstab_pct4"
   ]
  },
  {
   "cell_type": "code",
   "execution_count": 64,
   "id": "59c67482",
   "metadata": {},
   "outputs": [
    {
     "data": {
      "text/plain": [
       "<AxesSubplot:xlabel='Same_Country'>"
      ]
     },
     "execution_count": 64,
     "metadata": {},
     "output_type": "execute_result"
    },
    {
     "data": {
      "image/png": "[encoded data removed]",
      "text/plain": [
       "<Figure size 720x432 with 1 Axes>"
      ]
     },
     "metadata": {
      "needs_background": "light"
     },
     "output_type": "display_data"
    }
   ],
   "source": [
    "# Same_country\n",
    "\n",
    "cross_tab3 = pd.crosstab(india['Same_Country'], [india['Sets']])\n",
    "crosstab_pct3 = cross_tab3.apply(lambda r: r/r.sum(), axis=1)\n",
    "crosstab_pct3 = crosstab_pct3.apply(lambda r: round(r, 2), axis=0)\n",
    "crosstab_pct3.plot.bar(figsize=(10,6))"
   ]
  },
  {
   "cell_type": "code",
   "execution_count": 59,
   "id": "69f482f7",
   "metadata": {},
   "outputs": [],
   "source": [
    "### Seleção das variaveis candidatas aos modelos e continuação de analises\n",
    "\n",
    "india_candidatas = india.drop(['PlayerName', 'Oponent', 'Height_x', 'Height_y', 'Tournament', 'Ground', 'GameRank_x', 'GameRank_y','Data_inicio','Data_final','Intervalo_Prize', 'Forehand_x','Forehand_y','Backhand_x','Backhand_y','vantagem_playername','vantagem_oponent'], axis=1)"
   ]
  },
  {
   "cell_type": "code",
   "execution_count": 60,
   "id": "327891fb",
   "metadata": {},
   "outputs": [],
   "source": [
    "## Criando dummies\n",
    "# coluna India\n",
    "\n",
    "india_candidatas['India'] = pd.get_dummies(india_candidatas['India'])[True]"
   ]
  },
  {
   "cell_type": "code",
   "execution_count": 61,
   "id": "718180ac",
   "metadata": {},
   "outputs": [],
   "source": [
    "# coluna duracao (depois do modelo)\n",
    "\n",
    "india_candidatas['Duração'] = pd.get_dummies(india_candidatas['Duração'])[13]"
   ]
  },
  {
   "cell_type": "code",
   "execution_count": 62,
   "id": "d9c320f1",
   "metadata": {},
   "outputs": [],
   "source": [
    "# coluna same_forehand\n",
    "\n",
    "india_candidatas['Same_forehand'] = pd.get_dummies(india_candidatas['Same_forehand'])[True]"
   ]
  },
  {
   "cell_type": "code",
   "execution_count": 63,
   "id": "0ac3cc7f",
   "metadata": {},
   "outputs": [],
   "source": [
    "# coluna same_backhand\n",
    "\n",
    "india_candidatas['Same_backhand'] = pd.get_dummies(india_candidatas['Same_backhand'])[True]"
   ]
  },
  {
   "cell_type": "code",
   "execution_count": 64,
   "id": "3e57bd1b",
   "metadata": {},
   "outputs": [],
   "source": [
    "# coluna GameRound\n",
    "\n",
    "india_candidatas['GameRound'] = np.where(india_candidatas['GameRound'].isin(['3rd Round Qualifying','Semi-Finals', 'Quarter-Finals', 'Finals']), 1, 0)"
   ]
  },
  {
   "cell_type": "code",
   "execution_count": 65,
   "id": "9a42cad0",
   "metadata": {},
   "outputs": [],
   "source": [
    "# coluna Sets\n",
    "\n",
    "india_candidatas['Sets'] = pd.get_dummies(india_candidatas['Sets'])[3]"
   ]
  },
  {
   "cell_type": "code",
   "execution_count": 66,
   "id": "0950163d",
   "metadata": {},
   "outputs": [],
   "source": [
    "# coluna Same_country\n",
    "\n",
    "india_candidatas['Same_Country'] = pd.get_dummies(india_candidatas['Same_Country'])[True]"
   ]
  },
  {
   "cell_type": "code",
   "execution_count": 70,
   "id": "61260f4a",
   "metadata": {},
   "outputs": [
    {
     "ename": "KeyError",
     "evalue": "True",
     "output_type": "error",
     "traceback": [
      "\u001b[1;31m---------------------------------------------------------------------------\u001b[0m",
      "\u001b[1;31mKeyError\u001b[0m                                  Traceback (most recent call last)",
      "\u001b[1;32m~\\anaconda3\\lib\\site-packages\\pandas\\core\\indexes\\base.py\u001b[0m in \u001b[0;36mget_loc\u001b[1;34m(self, key, method, tolerance)\u001b[0m\n\u001b[0;32m   3360\u001b[0m             \u001b[1;32mtry\u001b[0m\u001b[1;33m:\u001b[0m\u001b[1;33m\u001b[0m\u001b[1;33m\u001b[0m\u001b[0m\n\u001b[1;32m-> 3361\u001b[1;33m                 \u001b[1;32mreturn\u001b[0m \u001b[0mself\u001b[0m\u001b[1;33m.\u001b[0m\u001b[0m_engine\u001b[0m\u001b[1;33m.\u001b[0m\u001b[0mget_loc\u001b[0m\u001b[1;33m(\u001b[0m\u001b[0mcasted_key\u001b[0m\u001b[1;33m)\u001b[0m\u001b[1;33m\u001b[0m\u001b[1;33m\u001b[0m\u001b[0m\n\u001b[0m\u001b[0;32m   3362\u001b[0m             \u001b[1;32mexcept\u001b[0m \u001b[0mKeyError\u001b[0m \u001b[1;32mas\u001b[0m \u001b[0merr\u001b[0m\u001b[1;33m:\u001b[0m\u001b[1;33m\u001b[0m\u001b[1;33m\u001b[0m\u001b[0m\n",
      "\u001b[1;32m~\\anaconda3\\lib\\site-packages\\pandas\\_libs\\index.pyx\u001b[0m in \u001b[0;36mpandas._libs.index.IndexEngine.get_loc\u001b[1;34m()\u001b[0m\n",
      "\u001b[1;32mpandas\\_libs\\index_class_helper.pxi\u001b[0m in \u001b[0;36mpandas._libs.index.Int64Engine._check_type\u001b[1;34m()\u001b[0m\n",
      "\u001b[1;32mpandas\\_libs\\index_class_helper.pxi\u001b[0m in \u001b[0;36mpandas._libs.index.UInt64Engine._check_type\u001b[1;34m()\u001b[0m\n",
      "\u001b[1;31mKeyError\u001b[0m: True",
      "\nThe above exception was the direct cause of the following exception:\n",
      "\u001b[1;31mKeyError\u001b[0m                                  Traceback (most recent call last)",
      "\u001b[1;32m~\\AppData\\Local\\Temp/ipykernel_18484/3510968964.py\u001b[0m in \u001b[0;36m<module>\u001b[1;34m\u001b[0m\n\u001b[0;32m      1\u001b[0m \u001b[1;31m# coluna vantagem (depois do modelo)\u001b[0m\u001b[1;33m\u001b[0m\u001b[1;33m\u001b[0m\u001b[0m\n\u001b[0;32m      2\u001b[0m \u001b[1;33m\u001b[0m\u001b[0m\n\u001b[1;32m----> 3\u001b[1;33m \u001b[0mindia_candidatas\u001b[0m\u001b[1;33m[\u001b[0m\u001b[1;34m'vantagem'\u001b[0m\u001b[1;33m]\u001b[0m \u001b[1;33m=\u001b[0m \u001b[0mpd\u001b[0m\u001b[1;33m.\u001b[0m\u001b[0mget_dummies\u001b[0m\u001b[1;33m(\u001b[0m\u001b[0mindia_candidatas\u001b[0m\u001b[1;33m[\u001b[0m\u001b[1;34m'vantagem'\u001b[0m\u001b[1;33m]\u001b[0m\u001b[1;33m)\u001b[0m\u001b[1;33m[\u001b[0m\u001b[1;32mTrue\u001b[0m\u001b[1;33m]\u001b[0m\u001b[1;33m\u001b[0m\u001b[1;33m\u001b[0m\u001b[0m\n\u001b[0m",
      "\u001b[1;32m~\\anaconda3\\lib\\site-packages\\pandas\\core\\frame.py\u001b[0m in \u001b[0;36m__getitem__\u001b[1;34m(self, key)\u001b[0m\n\u001b[0;32m   3425\u001b[0m                 \u001b[1;32mif\u001b[0m \u001b[0misinstance\u001b[0m\u001b[1;33m(\u001b[0m\u001b[0mself\u001b[0m\u001b[1;33m.\u001b[0m\u001b[0mcolumns\u001b[0m\u001b[1;33m,\u001b[0m \u001b[0mMultiIndex\u001b[0m\u001b[1;33m)\u001b[0m\u001b[1;33m:\u001b[0m\u001b[1;33m\u001b[0m\u001b[1;33m\u001b[0m\u001b[0m\n\u001b[0;32m   3426\u001b[0m                     \u001b[1;32mreturn\u001b[0m \u001b[0mself\u001b[0m\u001b[1;33m.\u001b[0m\u001b[0m_getitem_multilevel\u001b[0m\u001b[1;33m(\u001b[0m\u001b[0mkey\u001b[0m\u001b[1;33m)\u001b[0m\u001b[1;33m\u001b[0m\u001b[1;33m\u001b[0m\u001b[0m\n\u001b[1;32m-> 3427\u001b[1;33m                 \u001b[1;32mreturn\u001b[0m \u001b[0mself\u001b[0m\u001b[1;33m.\u001b[0m\u001b[0m_get_item_cache\u001b[0m\u001b[1;33m(\u001b[0m\u001b[0mkey\u001b[0m\u001b[1;33m)\u001b[0m\u001b[1;33m\u001b[0m\u001b[1;33m\u001b[0m\u001b[0m\n\u001b[0m\u001b[0;32m   3428\u001b[0m \u001b[1;33m\u001b[0m\u001b[0m\n\u001b[0;32m   3429\u001b[0m         \u001b[1;31m# Do we have a slicer (on rows)?\u001b[0m\u001b[1;33m\u001b[0m\u001b[1;33m\u001b[0m\u001b[0m\n",
      "\u001b[1;32m~\\anaconda3\\lib\\site-packages\\pandas\\core\\frame.py\u001b[0m in \u001b[0;36m_get_item_cache\u001b[1;34m(self, item)\u001b[0m\n\u001b[0;32m   3882\u001b[0m             \u001b[1;31m#  pending resolution of GH#33047\u001b[0m\u001b[1;33m\u001b[0m\u001b[1;33m\u001b[0m\u001b[0m\n\u001b[0;32m   3883\u001b[0m \u001b[1;33m\u001b[0m\u001b[0m\n\u001b[1;32m-> 3884\u001b[1;33m             \u001b[0mloc\u001b[0m \u001b[1;33m=\u001b[0m \u001b[0mself\u001b[0m\u001b[1;33m.\u001b[0m\u001b[0mcolumns\u001b[0m\u001b[1;33m.\u001b[0m\u001b[0mget_loc\u001b[0m\u001b[1;33m(\u001b[0m\u001b[0mitem\u001b[0m\u001b[1;33m)\u001b[0m\u001b[1;33m\u001b[0m\u001b[1;33m\u001b[0m\u001b[0m\n\u001b[0m\u001b[0;32m   3885\u001b[0m             \u001b[0mvalues\u001b[0m \u001b[1;33m=\u001b[0m \u001b[0mself\u001b[0m\u001b[1;33m.\u001b[0m\u001b[0m_mgr\u001b[0m\u001b[1;33m.\u001b[0m\u001b[0miget\u001b[0m\u001b[1;33m(\u001b[0m\u001b[0mloc\u001b[0m\u001b[1;33m)\u001b[0m\u001b[1;33m\u001b[0m\u001b[1;33m\u001b[0m\u001b[0m\n\u001b[0;32m   3886\u001b[0m             \u001b[0mres\u001b[0m \u001b[1;33m=\u001b[0m \u001b[0mself\u001b[0m\u001b[1;33m.\u001b[0m\u001b[0m_box_col_values\u001b[0m\u001b[1;33m(\u001b[0m\u001b[0mvalues\u001b[0m\u001b[1;33m,\u001b[0m \u001b[0mloc\u001b[0m\u001b[1;33m)\u001b[0m\u001b[1;33m.\u001b[0m\u001b[0m__finalize__\u001b[0m\u001b[1;33m(\u001b[0m\u001b[0mself\u001b[0m\u001b[1;33m)\u001b[0m\u001b[1;33m\u001b[0m\u001b[1;33m\u001b[0m\u001b[0m\n",
      "\u001b[1;32m~\\anaconda3\\lib\\site-packages\\pandas\\core\\indexes\\base.py\u001b[0m in \u001b[0;36mget_loc\u001b[1;34m(self, key, method, tolerance)\u001b[0m\n\u001b[0;32m   3361\u001b[0m                 \u001b[1;32mreturn\u001b[0m \u001b[0mself\u001b[0m\u001b[1;33m.\u001b[0m\u001b[0m_engine\u001b[0m\u001b[1;33m.\u001b[0m\u001b[0mget_loc\u001b[0m\u001b[1;33m(\u001b[0m\u001b[0mcasted_key\u001b[0m\u001b[1;33m)\u001b[0m\u001b[1;33m\u001b[0m\u001b[1;33m\u001b[0m\u001b[0m\n\u001b[0;32m   3362\u001b[0m             \u001b[1;32mexcept\u001b[0m \u001b[0mKeyError\u001b[0m \u001b[1;32mas\u001b[0m \u001b[0merr\u001b[0m\u001b[1;33m:\u001b[0m\u001b[1;33m\u001b[0m\u001b[1;33m\u001b[0m\u001b[0m\n\u001b[1;32m-> 3363\u001b[1;33m                 \u001b[1;32mraise\u001b[0m \u001b[0mKeyError\u001b[0m\u001b[1;33m(\u001b[0m\u001b[0mkey\u001b[0m\u001b[1;33m)\u001b[0m \u001b[1;32mfrom\u001b[0m \u001b[0merr\u001b[0m\u001b[1;33m\u001b[0m\u001b[1;33m\u001b[0m\u001b[0m\n\u001b[0m\u001b[0;32m   3364\u001b[0m \u001b[1;33m\u001b[0m\u001b[0m\n\u001b[0;32m   3365\u001b[0m         \u001b[1;32mif\u001b[0m \u001b[0mis_scalar\u001b[0m\u001b[1;33m(\u001b[0m\u001b[0mkey\u001b[0m\u001b[1;33m)\u001b[0m \u001b[1;32mand\u001b[0m \u001b[0misna\u001b[0m\u001b[1;33m(\u001b[0m\u001b[0mkey\u001b[0m\u001b[1;33m)\u001b[0m \u001b[1;32mand\u001b[0m \u001b[1;32mnot\u001b[0m \u001b[0mself\u001b[0m\u001b[1;33m.\u001b[0m\u001b[0mhasnans\u001b[0m\u001b[1;33m:\u001b[0m\u001b[1;33m\u001b[0m\u001b[1;33m\u001b[0m\u001b[0m\n",
      "\u001b[1;31mKeyError\u001b[0m: True"
     ]
    }
   ],
   "source": [
    "# coluna vantagem (depois do modelo)\n",
    "\n",
    "india_candidatas['vantagem'] = pd.get_dummies(india_candidatas['vantagem'])[True]"
   ]
  },
  {
   "cell_type": "code",
   "execution_count": 69,
   "id": "9af2ad4e",
   "metadata": {},
   "outputs": [],
   "source": [
    "# coluna equilibrio (depois do modelo)\n",
    "\n",
    "india_candidatas['equilibrio'] = pd.get_dummies(india_candidatas['equilibrio'])[True]"
   ]
  },
  {
   "cell_type": "code",
   "execution_count": 71,
   "id": "a3a6d4ec",
   "metadata": {},
   "outputs": [],
   "source": [
    "# reodernar colunas do dataframe\n",
    "\n",
    "india_candidatas = india_candidatas.reindex(columns=['Sets', 'GameRound','Same_forehand','Same_backhand','Same_Country','India','vantagem','equilibrio','Duração','Rank_diff','Height_diff','Prize'])"
   ]
  },
  {
   "cell_type": "code",
   "execution_count": 72,
   "id": "a6788369",
   "metadata": {},
   "outputs": [
    {
     "name": "stdout",
     "output_type": "stream",
     "text": [
      "Estatística F (Sets com Rank_diff): 9791.317593003285\n",
      "Valor de p (Sets com Rank_diff): 0.0\n",
      "Estatística F (Sets com Height_diff): 1218.138839013609\n",
      "Valor de p (Sets com Height_diff): 3.4832884450971225e-258\n",
      "Estatística F (Sets com Prize): 2683.8338639982094\n",
      "Valor de p (Sets com Prize): 0.0\n"
     ]
    }
   ],
   "source": [
    "## Correlaçoes\n",
    "# variavel alvo com numericas (ANOVA)\n",
    "\n",
    "import scipy.stats as stats\n",
    "\n",
    "variavel_alvo = india_candidatas['Sets']\n",
    "\n",
    "fvalue, pvalue = stats.f_oneway(variavel_alvo, india_candidatas['Rank_diff'])\n",
    "print('Estatística F (Sets com Rank_diff):', fvalue)\n",
    "print('Valor de p (Sets com Rank_diff):', pvalue)\n",
    "\n",
    "fvalue_1, pvalue_1 = stats.f_oneway(variavel_alvo, india_candidatas['Height_diff'])\n",
    "print('Estatística F (Sets com Height_diff):', fvalue_1)\n",
    "print('Valor de p (Sets com Height_diff):', pvalue_1)\n",
    "\n",
    "fvalue_2, pvalue_2 = stats.f_oneway(variavel_alvo, india_candidatas['Prize'])\n",
    "print('Estatística F (Sets com Prize):', fvalue_2)\n",
    "print('Valor de p (Sets com Prize):', pvalue_2)"
   ]
  },
  {
   "cell_type": "code",
   "execution_count": 73,
   "id": "184d6f8b",
   "metadata": {},
   "outputs": [
    {
     "name": "stdout",
     "output_type": "stream",
     "text": [
      "Estatística qui-quadrado: 0.2076144597295243\n",
      "Valor de p: 0.6486436258242176\n"
     ]
    }
   ],
   "source": [
    "# variavel alvo com categoricas (qui Quadrado)\n",
    "\n",
    "variaveis_categoricas = [\"GameRound\", \"Same_forehand\", \"Same_backhand\", \"Same_Country\", \"India\",\"Duração\",\"vantagem\", \"equilibrio\"]\n",
    "\n",
    "contingency_table = pd.crosstab(india_candidatas['Sets'], [india_candidatas['vantagem']])\n",
    "chi2, p_value, _, _ = stats.chi2_contingency(contingency_table)\n",
    "print('Estatística qui-quadrado:', chi2)\n",
    "print('Valor de p:', p_value)"
   ]
  },
  {
   "cell_type": "code",
   "execution_count": 74,
   "id": "cec10c38",
   "metadata": {},
   "outputs": [
    {
     "data": {
      "text/html": [
       "<div>\n",
       "<style scoped>\n",
       "    .dataframe tbody tr th:only-of-type {\n",
       "        vertical-align: middle;\n",
       "    }\n",
       "\n",
       "    .dataframe tbody tr th {\n",
       "        vertical-align: top;\n",
       "    }\n",
       "\n",
       "    .dataframe thead th {\n",
       "        text-align: right;\n",
       "    }\n",
       "</style>\n",
       "<table border=\"1\" class=\"dataframe\">\n",
       "  <thead>\n",
       "    <tr style=\"text-align: right;\">\n",
       "      <th></th>\n",
       "      <th>Rank_diff</th>\n",
       "      <th>Height_diff</th>\n",
       "      <th>Prize</th>\n",
       "    </tr>\n",
       "  </thead>\n",
       "  <tbody>\n",
       "    <tr>\n",
       "      <th>Rank_diff</th>\n",
       "      <td>1.000000</td>\n",
       "      <td>-0.008657</td>\n",
       "      <td>-0.210156</td>\n",
       "    </tr>\n",
       "    <tr>\n",
       "      <th>Height_diff</th>\n",
       "      <td>-0.008657</td>\n",
       "      <td>1.000000</td>\n",
       "      <td>0.008659</td>\n",
       "    </tr>\n",
       "    <tr>\n",
       "      <th>Prize</th>\n",
       "      <td>-0.210156</td>\n",
       "      <td>0.008659</td>\n",
       "      <td>1.000000</td>\n",
       "    </tr>\n",
       "  </tbody>\n",
       "</table>\n",
       "</div>"
      ],
      "text/plain": [
       "             Rank_diff  Height_diff     Prize\n",
       "Rank_diff     1.000000    -0.008657 -0.210156\n",
       "Height_diff  -0.008657     1.000000  0.008659\n",
       "Prize        -0.210156     0.008659  1.000000"
      ]
     },
     "execution_count": 74,
     "metadata": {},
     "output_type": "execute_result"
    },
    {
     "data": {
      "image/png": "[encoded data removed]",
      "text/plain": [
       "<Figure size 288x288 with 2 Axes>"
      ]
     },
     "metadata": {
      "needs_background": "light"
     },
     "output_type": "display_data"
    }
   ],
   "source": [
    "# variaveis numericas com numericas\n",
    "# matriz de correlacao\n",
    "\n",
    "variaveis_numericas = india_candidatas.drop(['Sets','GameRound','Same_forehand','Same_backhand','Same_Country','India',\"Duração\",\"vantagem\", \"equilibrio\"], axis=1)\n",
    "matriz = variaveis_numericas.corr()\n",
    "plt.matshow(matriz)\n",
    "plt.xticks(range(len(matriz.columns)), matriz.columns, rotation=90)\n",
    "plt.yticks(range(len(matriz.columns)), matriz.columns)\n",
    "plt.colorbar()\n",
    "matriz"
   ]
  },
  {
   "cell_type": "code",
   "execution_count": 81,
   "id": "b1bb4640",
   "metadata": {},
   "outputs": [
    {
     "data": {
      "text/html": [
       "<div>\n",
       "<style scoped>\n",
       "    .dataframe tbody tr th:only-of-type {\n",
       "        vertical-align: middle;\n",
       "    }\n",
       "\n",
       "    .dataframe tbody tr th {\n",
       "        vertical-align: top;\n",
       "    }\n",
       "\n",
       "    .dataframe thead th {\n",
       "        text-align: right;\n",
       "    }\n",
       "</style>\n",
       "<table border=\"1\" class=\"dataframe\">\n",
       "  <thead>\n",
       "    <tr style=\"text-align: right;\">\n",
       "      <th></th>\n",
       "      <th>Sets</th>\n",
       "      <th>GameRound</th>\n",
       "      <th>Same_forehand</th>\n",
       "      <th>Same_backhand</th>\n",
       "      <th>Same_Country</th>\n",
       "      <th>India</th>\n",
       "      <th>vantagem</th>\n",
       "      <th>equilibrio</th>\n",
       "      <th>Duração</th>\n",
       "      <th>Rank_diff</th>\n",
       "      <th>Height_diff</th>\n",
       "      <th>Prize</th>\n",
       "    </tr>\n",
       "  </thead>\n",
       "  <tbody>\n",
       "    <tr>\n",
       "      <th>5</th>\n",
       "      <td>1</td>\n",
       "      <td>1</td>\n",
       "      <td>1</td>\n",
       "      <td>0</td>\n",
       "      <td>0</td>\n",
       "      <td>0</td>\n",
       "      <td>0</td>\n",
       "      <td>0</td>\n",
       "      <td>0</td>\n",
       "      <td>3</td>\n",
       "      <td>23</td>\n",
       "      <td>447480</td>\n",
       "    </tr>\n",
       "    <tr>\n",
       "      <th>10</th>\n",
       "      <td>0</td>\n",
       "      <td>1</td>\n",
       "      <td>1</td>\n",
       "      <td>1</td>\n",
       "      <td>0</td>\n",
       "      <td>0</td>\n",
       "      <td>0</td>\n",
       "      <td>0</td>\n",
       "      <td>0</td>\n",
       "      <td>18</td>\n",
       "      <td>15</td>\n",
       "      <td>447480</td>\n",
       "    </tr>\n",
       "    <tr>\n",
       "      <th>15</th>\n",
       "      <td>0</td>\n",
       "      <td>0</td>\n",
       "      <td>1</td>\n",
       "      <td>1</td>\n",
       "      <td>0</td>\n",
       "      <td>0</td>\n",
       "      <td>0</td>\n",
       "      <td>0</td>\n",
       "      <td>0</td>\n",
       "      <td>35</td>\n",
       "      <td>18</td>\n",
       "      <td>447480</td>\n",
       "    </tr>\n",
       "    <tr>\n",
       "      <th>20</th>\n",
       "      <td>0</td>\n",
       "      <td>0</td>\n",
       "      <td>0</td>\n",
       "      <td>1</td>\n",
       "      <td>0</td>\n",
       "      <td>0</td>\n",
       "      <td>0</td>\n",
       "      <td>0</td>\n",
       "      <td>0</td>\n",
       "      <td>17</td>\n",
       "      <td>15</td>\n",
       "      <td>447480</td>\n",
       "    </tr>\n",
       "    <tr>\n",
       "      <th>30</th>\n",
       "      <td>1</td>\n",
       "      <td>1</td>\n",
       "      <td>0</td>\n",
       "      <td>1</td>\n",
       "      <td>1</td>\n",
       "      <td>0</td>\n",
       "      <td>0</td>\n",
       "      <td>1</td>\n",
       "      <td>0</td>\n",
       "      <td>15</td>\n",
       "      <td>6</td>\n",
       "      <td>411000</td>\n",
       "    </tr>\n",
       "  </tbody>\n",
       "</table>\n",
       "</div>"
      ],
      "text/plain": [
       "    Sets  GameRound  Same_forehand  Same_backhand  Same_Country  India  \\\n",
       "5      1          1              1              0             0      0   \n",
       "10     0          1              1              1             0      0   \n",
       "15     0          0              1              1             0      0   \n",
       "20     0          0              0              1             0      0   \n",
       "30     1          1              0              1             1      0   \n",
       "\n",
       "    vantagem  equilibrio  Duração  Rank_diff  Height_diff   Prize  \n",
       "5          0           0        0          3           23  447480  \n",
       "10         0           0        0         18           15  447480  \n",
       "15         0           0        0         35           18  447480  \n",
       "20         0           0        0         17           15  447480  \n",
       "30         0           1        0         15            6  411000  "
      ]
     },
     "execution_count": 81,
     "metadata": {},
     "output_type": "execute_result"
    }
   ],
   "source": [
    "india_candidatas.head()"
   ]
  },
  {
   "cell_type": "code",
   "execution_count": 75,
   "id": "23104629",
   "metadata": {},
   "outputs": [],
   "source": [
    "#### modelos #### \n",
    "\n",
    "from sklearn import model_selection, preprocessing, feature_selection, ensemble, linear_model, metrics, decomposition\n",
    "from sklearn.linear_model import LogisticRegression\n",
    "from sklearn.model_selection import GridSearchCV, cross_val_score, StratifiedKFold, learning_curve, train_test_split\n",
    "from sklearn import svm\n",
    "from sklearn.tree import DecisionTreeClassifier\n",
    "from sklearn.model_selection import train_test_split\n",
    "from sklearn.svm import SVC"
   ]
  },
  {
   "cell_type": "code",
   "execution_count": 76,
   "id": "b096713b",
   "metadata": {},
   "outputs": [],
   "source": [
    "# dividindo o data set em dados de treino e de teste\n",
    "\n",
    "india_treino, india_teste = model_selection.train_test_split(india_candidatas, test_size = 0.2, random_state = 2)"
   ]
  },
  {
   "cell_type": "code",
   "execution_count": 77,
   "id": "d00a40fb",
   "metadata": {},
   "outputs": [
    {
     "data": {
      "text/plain": [
       "0    0.716117\n",
       "1    0.283883\n",
       "Name: Sets, dtype: float64"
      ]
     },
     "execution_count": 77,
     "metadata": {},
     "output_type": "execute_result"
    }
   ],
   "source": [
    "# Verificando se os dados de treino e teste estao com a mesma proporção de jogos com 2 e 3 sets\n",
    "\n",
    "india_treino[\"Sets\"].value_counts()/india_treino.shape[0]"
   ]
  },
  {
   "cell_type": "code",
   "execution_count": 78,
   "id": "46cd223f",
   "metadata": {},
   "outputs": [
    {
     "data": {
      "text/plain": [
       "0    0.712676\n",
       "1    0.287324\n",
       "Name: Sets, dtype: float64"
      ]
     },
     "execution_count": 78,
     "metadata": {},
     "output_type": "execute_result"
    }
   ],
   "source": [
    "india_teste[\"Sets\"].value_counts()/india_teste.shape[0]  \n",
    "# proporção parececida"
   ]
  },
  {
   "cell_type": "code",
   "execution_count": 79,
   "id": "94bfc25f",
   "metadata": {},
   "outputs": [
    {
     "name": "stdout",
     "output_type": "stream",
     "text": [
      "(7098, 12)\n",
      "(1775, 12)\n"
     ]
    }
   ],
   "source": [
    "print(india_treino.shape)\n",
    "print(india_teste.shape)"
   ]
  },
  {
   "cell_type": "code",
   "execution_count": 80,
   "id": "06566d76",
   "metadata": {},
   "outputs": [],
   "source": [
    "# definindo os dados de entrada e saida (quais serao os preditores e a variavel alvo)\n",
    "\n",
    "entrada = [\"GameRound\", \"Same_forehand\", \"Same_backhand\", \"Same_Country\", \"India\", \"Rank_diff\", \"Height_diff\", \"Prize\", \"Duração\",\"vantagem\", \"equilibrio\"]\n",
    "saida = [\"Sets\"]\n",
    "\n",
    "X_treino = india_treino[entrada].values\n",
    "Y_treino = india_treino[saida].values\n",
    "\n",
    "X_teste = india_teste[entrada].values\n",
    "Y_teste = india_teste[saida].values\n"
   ]
  },
  {
   "cell_type": "code",
   "execution_count": 78,
   "id": "3ed02a0b",
   "metadata": {},
   "outputs": [],
   "source": [
    "## Regressao Logistica \n",
    "\n",
    "lr = LogisticRegression()"
   ]
  },
  {
   "cell_type": "code",
   "execution_count": 79,
   "id": "2380dc9a",
   "metadata": {},
   "outputs": [
    {
     "data": {
      "text/plain": [
       "LogisticRegression()"
      ]
     },
     "execution_count": 79,
     "metadata": {},
     "output_type": "execute_result"
    }
   ],
   "source": [
    "# treinando o modelo \n",
    "\n",
    "lr.fit(X_treino, Y_treino)"
   ]
  },
  {
   "cell_type": "code",
   "execution_count": 80,
   "id": "a50bc65f",
   "metadata": {},
   "outputs": [],
   "source": [
    "# fazendo as previsoes \n",
    "\n",
    "pred = lr.predict(X_teste)  "
   ]
  },
  {
   "cell_type": "code",
   "execution_count": 1630,
   "id": "04c115f8",
   "metadata": {},
   "outputs": [],
   "source": [
    "# Avaliação do modelo - regressao logistica"
   ]
  },
  {
   "cell_type": "code",
   "execution_count": 1631,
   "id": "6e2b8682",
   "metadata": {},
   "outputs": [
    {
     "name": "stdout",
     "output_type": "stream",
     "text": [
      "0.713\n"
     ]
    }
   ],
   "source": [
    "# Accuracy \n",
    "\n",
    "accuracy = metrics.accuracy_score(Y_teste, pred)\n",
    "print(round(accuracy, 3))"
   ]
  },
  {
   "cell_type": "code",
   "execution_count": 1632,
   "id": "d61134eb",
   "metadata": {},
   "outputs": [
    {
     "name": "stdout",
     "output_type": "stream",
     "text": [
      "0.5\n"
     ]
    }
   ],
   "source": [
    "# AUC \n",
    "\n",
    "auc = metrics.roc_auc_score(Y_teste, pred)\n",
    "print(round(auc, 3))"
   ]
  },
  {
   "cell_type": "code",
   "execution_count": 1633,
   "id": "7da3eebb",
   "metadata": {},
   "outputs": [
    {
     "name": "stdout",
     "output_type": "stream",
     "text": [
      "0.0\n"
     ]
    }
   ],
   "source": [
    "# Recall\n",
    "\n",
    "recall = metrics.recall_score(Y_teste, pred)\n",
    "print(round(recall, 3))"
   ]
  },
  {
   "cell_type": "code",
   "execution_count": 1634,
   "id": "e8c34833",
   "metadata": {},
   "outputs": [
    {
     "name": "stdout",
     "output_type": "stream",
     "text": [
      "0.0\n"
     ]
    }
   ],
   "source": [
    "# Precision\n",
    "\n",
    "precision = metrics.precision_score(Y_teste, pred)\n",
    "print(round(precision, 3))"
   ]
  },
  {
   "cell_type": "code",
   "execution_count": 1635,
   "id": "3fab0aad",
   "metadata": {},
   "outputs": [
    {
     "data": {
      "image/png": "[encoded data removed]",
      "text/plain": [
       "<Figure size 640x480 with 1 Axes>"
      ]
     },
     "metadata": {},
     "output_type": "display_data"
    }
   ],
   "source": [
    "# matriz de confusao - regressao logistica\n",
    "\n",
    "classes = np.unique(Y_teste)\n",
    "fig, ax = plt.subplots()\n",
    "cm = metrics.confusion_matrix(Y_teste, pred, labels=classes)\n",
    "sns.heatmap(cm, annot=True, fmt='d', cmap=plt.cm.Blues, cbar=False)\n",
    "ax.set(xlabel=\"Pred\", ylabel=\"True\", title=\"Confusion matrix\")\n",
    "ax.set_yticklabels(labels=classes, rotation=0)\n",
    "plt.show()"
   ]
  },
  {
   "cell_type": "code",
   "execution_count": 1636,
   "id": "cdc1300b",
   "metadata": {},
   "outputs": [],
   "source": [
    "# arvore de decisao"
   ]
  },
  {
   "cell_type": "code",
   "execution_count": null,
   "id": "cc7737e3",
   "metadata": {},
   "outputs": [],
   "source": [
    " "
   ]
  },
  {
   "cell_type": "code",
   "execution_count": 149,
   "id": "b25a99ec",
   "metadata": {},
   "outputs": [],
   "source": [
    "# modelo\n",
    "\n",
    "tree = DecisionTreeClassifier(random_state=42)"
   ]
  },
  {
   "cell_type": "code",
   "execution_count": 150,
   "id": "62b3dba1",
   "metadata": {},
   "outputs": [
    {
     "data": {
      "text/plain": [
       "DecisionTreeClassifier(random_state=42)"
      ]
     },
     "execution_count": 150,
     "metadata": {},
     "output_type": "execute_result"
    }
   ],
   "source": [
    "# treinando o modelo\n",
    "\n",
    "tree.fit(X_treino, Y_treino)"
   ]
  },
  {
   "cell_type": "code",
   "execution_count": 151,
   "id": "dc437f8c",
   "metadata": {},
   "outputs": [],
   "source": [
    "# fazendo as previsoes\n",
    "\n",
    "pred_1 = tree.predict(X_teste)\n"
   ]
  },
  {
   "cell_type": "code",
   "execution_count": 163,
   "id": "c4a99897",
   "metadata": {},
   "outputs": [],
   "source": [
    "pred_prob = (tree.predict_proba(X_teste)[:,1] >= 20).astype(int)"
   ]
  },
  {
   "cell_type": "code",
   "execution_count": 153,
   "id": "3b95ee06",
   "metadata": {},
   "outputs": [
    {
     "name": "stdout",
     "output_type": "stream",
     "text": [
      "0.592\n"
     ]
    }
   ],
   "source": [
    "# Avaliacao do modelo - arvore de decisao\n",
    "\n",
    "# Accuracy \n",
    "\n",
    "accuracy = metrics.accuracy_score(Y_teste, pred_1)\n",
    "print(round(accuracy, 3))"
   ]
  },
  {
   "cell_type": "code",
   "execution_count": 159,
   "id": "0078f045",
   "metadata": {},
   "outputs": [
    {
     "name": "stdout",
     "output_type": "stream",
     "text": [
      "0.508\n"
     ]
    }
   ],
   "source": [
    "# AUC \n",
    "\n",
    "auc = metrics.roc_auc_score(Y_teste, pred_1)\n",
    "print(round(auc, 3))"
   ]
  },
  {
   "cell_type": "code",
   "execution_count": 158,
   "id": "e22c7f07",
   "metadata": {},
   "outputs": [
    {
     "name": "stdout",
     "output_type": "stream",
     "text": [
      "0.31\n"
     ]
    }
   ],
   "source": [
    "# Recall\n",
    "\n",
    "recall = metrics.recall_score(Y_teste, pred_1)\n",
    "print(round(recall, 3))"
   ]
  },
  {
   "cell_type": "code",
   "execution_count": 91,
   "id": "92739fab",
   "metadata": {},
   "outputs": [
    {
     "name": "stdout",
     "output_type": "stream",
     "text": [
      "0.306\n"
     ]
    }
   ],
   "source": [
    "# Precision\n",
    "\n",
    "precision = metrics.precision_score(Y_teste, pred_1)\n",
    "print(round(precision, 3))"
   ]
  },
  {
   "cell_type": "code",
   "execution_count": 92,
   "id": "485db2a3",
   "metadata": {},
   "outputs": [
    {
     "data": {
      "image/png": "[encoded data removed]",
      "text/plain": [
       "<Figure size 432x288 with 1 Axes>"
      ]
     },
     "metadata": {
      "needs_background": "light"
     },
     "output_type": "display_data"
    }
   ],
   "source": [
    "# matriz de confusao - arvore de decisao\n",
    "\n",
    "classes = np.unique(Y_teste)\n",
    "fig, ax = plt.subplots()\n",
    "cm = metrics.confusion_matrix(Y_teste, pred_1, labels=classes)\n",
    "sns.heatmap(cm, annot=True, fmt='d', cmap=plt.cm.Blues, cbar=False)\n",
    "ax.set(xlabel=\"Pred\", ylabel=\"True\", title=\"Confusion matrix\")\n",
    "ax.set_yticklabels(labels=classes, rotation=0)\n",
    "plt.show()"
   ]
  },
  {
   "cell_type": "code",
   "execution_count": 164,
   "id": "d48cfb1d",
   "metadata": {},
   "outputs": [
    {
     "data": {
      "image/png": "[encoded data removed]",
      "text/plain": [
       "<Figure size 432x288 with 1 Axes>"
      ]
     },
     "metadata": {
      "needs_background": "light"
     },
     "output_type": "display_data"
    }
   ],
   "source": [
    "classes = np.unique(Y_teste)\n",
    "fig, ax = plt.subplots()\n",
    "cm = metrics.confusion_matrix(Y_teste, pred_prob, labels=classes)\n",
    "sns.heatmap(cm, annot=True, fmt='d', cmap=plt.cm.Blues, cbar=False)\n",
    "ax.set(xlabel=\"Pred\", ylabel=\"True\", title=\"Confusion matrix\")\n",
    "ax.set_yticklabels(labels=classes, rotation=0)\n",
    "plt.show()"
   ]
  },
  {
   "cell_type": "code",
   "execution_count": null,
   "id": "1a516471",
   "metadata": {},
   "outputs": [],
   "source": [
    "# mostrando a curva ROC \n"
   ]
  },
  {
   "cell_type": "code",
   "execution_count": null,
   "id": "9e9a698f",
   "metadata": {},
   "outputs": [],
   "source": []
  },
  {
   "cell_type": "code",
   "execution_count": null,
   "id": "19377361",
   "metadata": {},
   "outputs": [],
   "source": []
  },
  {
   "cell_type": "code",
   "execution_count": 1645,
   "id": "5163e52a",
   "metadata": {},
   "outputs": [],
   "source": [
    "# arvore de decisao com K cross validation\n",
    "\n",
    "from sklearn.model_selection import cross_val_score\n",
    "from sklearn.model_selection import KFold\n",
    "\n",
    "k = 10\n",
    "kf = KFold(n_splits=k, shuffle=True, random_state=42)"
   ]
  },
  {
   "cell_type": "code",
   "execution_count": 1675,
   "id": "625bdb1c",
   "metadata": {},
   "outputs": [
    {
     "name": "stdout",
     "output_type": "stream",
     "text": [
      "Pontuações de desempenho: [0.60247748 0.60923423 0.58896396 0.59413754 0.60202931 0.6065389\n",
      " 0.59977452 0.60879369 0.62683202 0.59864713]\n",
      "Média das pontuações de desempenho: 0.6037428776013893\n"
     ]
    }
   ],
   "source": [
    "scores = cross_val_score(tree, india_candidatas[entrada].values, india_candidatas[saida].values, cv=kf, scoring='accuracy')\n",
    "print('Pontuações de desempenho:', scores)\n",
    "print('Média das pontuações de desempenho:', scores.mean())"
   ]
  },
  {
   "cell_type": "code",
   "execution_count": 1678,
   "id": "8af00ca1",
   "metadata": {},
   "outputs": [
    {
     "name": "stdout",
     "output_type": "stream",
     "text": [
      "Pontuações de desempenho: [0.33017078 0.33904762 0.28290766 0.296875   0.29540918 0.28336756\n",
      " 0.25887265 0.31558185 0.33667335 0.29365079]\n",
      "Média das pontuações de desempenho: 0.3032556442968214\n"
     ]
    }
   ],
   "source": [
    "scores = cross_val_score(tree, india_candidatas[entrada].values, india_candidatas[saida].values, cv=kf, scoring='f1')\n",
    "print('Pontuações de desempenho:', scores)\n",
    "print('Média das pontuações de desempenho:', scores.mean())"
   ]
  },
  {
   "cell_type": "code",
   "execution_count": 1679,
   "id": "41d46d17",
   "metadata": {},
   "outputs": [
    {
     "name": "stdout",
     "output_type": "stream",
     "text": [
      "Pontuações de desempenho: [0.33333333 0.32363636 0.26373626 0.30522088 0.30327869 0.2875\n",
      " 0.27192982 0.31007752 0.33870968 0.29718876]\n",
      "Média das pontuações de desempenho: 0.30346113091453714\n"
     ]
    }
   ],
   "source": [
    "scores = cross_val_score(tree, india_candidatas[entrada].values, india_candidatas[saida].values, cv=kf, scoring='precision')\n",
    "print('Pontuações de desempenho:', scores)\n",
    "print('Média das pontuações de desempenho:', scores.mean())"
   ]
  },
  {
   "cell_type": "code",
   "execution_count": 1680,
   "id": "2b1a416f",
   "metadata": {},
   "outputs": [
    {
     "name": "stdout",
     "output_type": "stream",
     "text": [
      "Pontuações de desempenho: [0.32706767 0.356      0.30508475 0.28897338 0.28793774 0.27935223\n",
      " 0.24701195 0.32128514 0.33466135 0.29019608]\n",
      "Média das pontuações de desempenho: 0.30375702946439015\n"
     ]
    }
   ],
   "source": [
    "scores = cross_val_score(tree, india_candidatas[entrada].values, india_candidatas[saida].values, cv=kf, scoring='recall')\n",
    "print('Pontuações de desempenho:', scores)\n",
    "print('Média das pontuações de desempenho:', scores.mean())"
   ]
  },
  {
   "cell_type": "code",
   "execution_count": 1648,
   "id": "35e03ec9",
   "metadata": {},
   "outputs": [],
   "source": [
    "# modelo svm"
   ]
  },
  {
   "cell_type": "code",
   "execution_count": 1649,
   "id": "94141a26",
   "metadata": {},
   "outputs": [],
   "source": [
    "# modelo\n",
    "\n",
    "svc = SVC()"
   ]
  },
  {
   "cell_type": "code",
   "execution_count": 1650,
   "id": "01e8a1f1",
   "metadata": {},
   "outputs": [
    {
     "data": {
      "text/plain": [
       "SVC()"
      ]
     },
     "execution_count": 1650,
     "metadata": {},
     "output_type": "execute_result"
    }
   ],
   "source": [
    "# treinando o modelo\n",
    "\n",
    "svc.fit(X_treino, Y_treino)"
   ]
  },
  {
   "cell_type": "code",
   "execution_count": 1651,
   "id": "ea1a3822",
   "metadata": {},
   "outputs": [],
   "source": [
    "# fazendo as previsoes\n",
    "\n",
    "pred_2 = svc.predict(X_teste)"
   ]
  },
  {
   "cell_type": "code",
   "execution_count": 1652,
   "id": "322c6da0",
   "metadata": {},
   "outputs": [
    {
     "name": "stdout",
     "output_type": "stream",
     "text": [
      "0.713\n"
     ]
    }
   ],
   "source": [
    "# Avaliacao do modelo - svm\n",
    "\n",
    "# Accuracy \n",
    "\n",
    "accuracy = metrics.accuracy_score(Y_teste, pred_2)\n",
    "print(round(accuracy, 3))"
   ]
  },
  {
   "cell_type": "code",
   "execution_count": 1653,
   "id": "5c9e417c",
   "metadata": {},
   "outputs": [
    {
     "name": "stdout",
     "output_type": "stream",
     "text": [
      "0.5\n"
     ]
    }
   ],
   "source": [
    "# AUC \n",
    "\n",
    "auc = metrics.roc_auc_score(Y_teste, pred_2)\n",
    "print(round(auc, 3))"
   ]
  },
  {
   "cell_type": "code",
   "execution_count": 1654,
   "id": "1370bf32",
   "metadata": {},
   "outputs": [
    {
     "name": "stdout",
     "output_type": "stream",
     "text": [
      "0.0\n"
     ]
    }
   ],
   "source": [
    "# Recall\n",
    "\n",
    "recall = metrics.recall_score(Y_teste, pred_2)\n",
    "print(round(recall, 3))"
   ]
  },
  {
   "cell_type": "code",
   "execution_count": 1655,
   "id": "2549d51e",
   "metadata": {},
   "outputs": [
    {
     "name": "stdout",
     "output_type": "stream",
     "text": [
      "0.0\n"
     ]
    }
   ],
   "source": [
    "# Precision\n",
    "\n",
    "precision = metrics.precision_score(Y_teste, pred_2)\n",
    "print(round(precision, 3))"
   ]
  },
  {
   "cell_type": "code",
   "execution_count": 1656,
   "id": "6961c64d",
   "metadata": {},
   "outputs": [
    {
     "data": {
      "image/png": "[encoded data removed]",
      "text/plain": [
       "<Figure size 640x480 with 1 Axes>"
      ]
     },
     "metadata": {},
     "output_type": "display_data"
    }
   ],
   "source": [
    "# matriz de confusao - svm\n",
    "\n",
    "classes = np.unique(Y_teste)\n",
    "fig, ax = plt.subplots()\n",
    "cm = metrics.confusion_matrix(Y_teste, pred_2, labels=classes)\n",
    "sns.heatmap(cm, annot=True, fmt='d', cmap=plt.cm.Blues, cbar=False)\n",
    "ax.set(xlabel=\"Pred\", ylabel=\"True\", title=\"Confusion matrix\")\n",
    "ax.set_yticklabels(labels=classes, rotation=0)\n",
    "plt.show()"
   ]
  },
  {
   "cell_type": "code",
   "execution_count": null,
   "id": "f86d4cb8",
   "metadata": {},
   "outputs": [],
   "source": [
    "# random forest \n"
   ]
  },
  {
   "cell_type": "code",
   "execution_count": 100,
   "id": "b11ebf72",
   "metadata": {},
   "outputs": [],
   "source": [
    "from sklearn.ensemble import RandomForestClassifier\n"
   ]
  },
  {
   "cell_type": "code",
   "execution_count": 106,
   "id": "9d2715dc",
   "metadata": {},
   "outputs": [
    {
     "data": {
      "text/plain": [
       "RandomForestClassifier(max_depth=2, random_state=42)"
      ]
     },
     "execution_count": 106,
     "metadata": {},
     "output_type": "execute_result"
    }
   ],
   "source": [
    "rf2 = RandomForestClassifier(max_depth=2, random_state = 42)\n",
    "rf2.fit(X_treino, Y_treino)"
   ]
  },
  {
   "cell_type": "code",
   "execution_count": 110,
   "id": "dda6c948",
   "metadata": {},
   "outputs": [],
   "source": [
    "pred_rf = rf2.predict(X_teste)"
   ]
  },
  {
   "cell_type": "code",
   "execution_count": 112,
   "id": "1939b324",
   "metadata": {},
   "outputs": [
    {
     "data": {
      "text/plain": [
       "0.7126760563380282"
      ]
     },
     "execution_count": 112,
     "metadata": {},
     "output_type": "execute_result"
    }
   ],
   "source": [
    "# Accuracy \n",
    "\n",
    "acc_rf = metrics.accuracy_score(Y_teste, pred_rf)\n",
    "acc_rf"
   ]
  },
  {
   "cell_type": "code",
   "execution_count": 114,
   "id": "e0e0d1d1",
   "metadata": {},
   "outputs": [
    {
     "data": {
      "text/plain": [
       "0.0"
      ]
     },
     "execution_count": 114,
     "metadata": {},
     "output_type": "execute_result"
    }
   ],
   "source": [
    "# Precision \n",
    "\n",
    "preci_rf = metrics.precision_score(Y_teste, pred_rf)\n",
    "preci_rf"
   ]
  },
  {
   "cell_type": "code",
   "execution_count": 108,
   "id": "3ef17543",
   "metadata": {},
   "outputs": [
    {
     "data": {
      "text/plain": [
       "<BarContainer object of 11 artists>"
      ]
     },
     "execution_count": 108,
     "metadata": {},
     "output_type": "execute_result"
    },
    {
     "data": {
      "image/png": "[encoded data removed]",
      "text/plain": [
       "<Figure size 432x288 with 1 Axes>"
      ]
     },
     "metadata": {
      "needs_background": "light"
     },
     "output_type": "display_data"
    }
   ],
   "source": [
    "# importancia das variaveis para o Random Forest \n",
    "\n",
    "feature_names = [\"GameRound\", \"Same_forehand\", \"Same_backhand\", \"Same_Country\", \"India\", \"Rank_diff\", \"Height_diff\", \"Prize\", \"Duração\",\"vantagem\", \"equilibrio\"]\n",
    "plt.barh(feature_names, rf2.feature_importances_)"
   ]
  },
  {
   "cell_type": "code",
   "execution_count": 109,
   "id": "515559b0",
   "metadata": {},
   "outputs": [
    {
     "data": {
      "text/plain": [
       "<BarContainer object of 11 artists>"
      ]
     },
     "execution_count": 109,
     "metadata": {},
     "output_type": "execute_result"
    },
    {
     "data": {
      "image/png": "[encoded data removed]",
      "text/plain": [
       "<Figure size 432x288 with 1 Axes>"
      ]
     },
     "metadata": {
      "needs_background": "light"
     },
     "output_type": "display_data"
    }
   ],
   "source": [
    "# Importancia para o decision tree \n",
    "\n",
    "feature_names = [\"GameRound\", \"Same_forehand\", \"Same_backhand\", \"Same_Country\", \"India\", \"Rank_diff\", \"Height_diff\", \"Prize\", \"Duração\",\"vantagem\", \"equilibrio\"]\n",
    "plt.barh(feature_names, tree.feature_importances_)"
   ]
  },
  {
   "cell_type": "code",
   "execution_count": null,
   "id": "102c929b",
   "metadata": {},
   "outputs": [],
   "source": []
  },
  {
   "cell_type": "code",
   "execution_count": null,
   "id": "1a7f8f02",
   "metadata": {},
   "outputs": [],
   "source": []
  },
  {
   "cell_type": "code",
   "execution_count": null,
   "id": "62519ad3",
   "metadata": {},
   "outputs": [],
   "source": []
  },
  {
   "cell_type": "code",
   "execution_count": null,
   "id": "e2dab519",
   "metadata": {},
   "outputs": [],
   "source": []
  },
  {
   "cell_type": "code",
   "execution_count": null,
   "id": "06dacb99",
   "metadata": {},
   "outputs": [],
   "source": []
  },
  {
   "cell_type": "code",
   "execution_count": 89,
   "id": "01e5f355",
   "metadata": {},
   "outputs": [],
   "source": [
    "# testando outra forma \n",
    "# modelo Gradient Boosting \n",
    "\n",
    "model = ensemble.GradientBoostingClassifier()"
   ]
  },
  {
   "cell_type": "code",
   "execution_count": 90,
   "id": "c706e224",
   "metadata": {},
   "outputs": [],
   "source": [
    "param_dic = {'learning_rate':[0.15,0.1,0.05,0.01,0.005,0.001],   # primeira tentativa com os parametros iniciais   \n",
    "'n_estimators':[100,250,500,750,1000,1250,1500,1750], \n",
    "'min_samples_split':[2,4,6,8,10,20,40,60,100],   \n",
    "'min_samples_leaf':[1,3,5,7,9],     \n",
    "'max_features':[2,3,4,5,6,7],     \n",
    "'subsample':[0.7,0.75,0.8,0.85,0.9,0.95,1]}     "
   ]
  },
  {
   "cell_type": "code",
   "execution_count": 107,
   "id": "107c82d0",
   "metadata": {},
   "outputs": [],
   "source": [
    "param_dic = {'learning_rate':[0.12,0.08,0.04,0.01,0.0075,0.0030],     # outra tentativa \n",
    "'n_estimators':[150,350,650,1000,1250,1500,1750,2000], \n",
    "'min_samples_split':[2,4,6,8,10,20,40,60,100],   \n",
    "'min_samples_leaf':[1,3,5,7,9],     \n",
    "'max_features':[3,4,5,6,7,8],     \n",
    "'subsample':[0.7,0.75,0.8,0.85,0.9,0.95,1]}  "
   ]
  },
  {
   "cell_type": "code",
   "execution_count": 108,
   "id": "0ca055a9",
   "metadata": {},
   "outputs": [
    {
     "name": "stdout",
     "output_type": "stream",
     "text": [
      "Best Model parameters: {'subsample': 0.75, 'n_estimators': 2000, 'min_samples_split': 4, 'min_samples_leaf': 3, 'max_features': 4, 'learning_rate': 0.003}\n",
      "Best Model mean precision: 0.5666666666666667\n"
     ]
    }
   ],
   "source": [
    "random_search = model_selection.RandomizedSearchCV(model, \n",
    "       param_distributions=param_dic, n_iter=20, \n",
    "       scoring=\"precision\").fit(X_treino, Y_treino)\n",
    "print(\"Best Model parameters:\", random_search.best_params_)\n",
    "print(\"Best Model mean precision:\", random_search.best_score_)"
   ]
  },
  {
   "cell_type": "code",
   "execution_count": 109,
   "id": "af66e149",
   "metadata": {},
   "outputs": [],
   "source": [
    "model = random_search.best_estimator_"
   ]
  },
  {
   "cell_type": "code",
   "execution_count": 110,
   "id": "1671666f",
   "metadata": {},
   "outputs": [
    {
     "data": {
      "image/png": "[encoded data removed]",
      "text/plain": [
       "<Figure size 432x288 with 1 Axes>"
      ]
     },
     "metadata": {
      "needs_background": "light"
     },
     "output_type": "display_data"
    }
   ],
   "source": [
    "# validação do modelo pelo k cross validation\n",
    "\n",
    "import scipy\n",
    "\n",
    "cv = model_selection.StratifiedKFold(n_splits=10, shuffle=True)\n",
    "tprs, aucs = [], []\n",
    "mean_fpr = np.linspace(0,1,100)\n",
    "fig = plt.figure()\n",
    "i = 1\n",
    "for train, test in cv.split(X_treino, Y_treino):\n",
    "    prediction = model.fit(X_treino[train], Y_treino[train]).predict_proba(X_treino[test])\n",
    "    fpr, tpr, t = metrics.roc_curve(Y_treino[test], prediction[:, 1])\n",
    "    tprs.append(scipy.interp(mean_fpr, fpr, tpr))\n",
    "    roc_auc = metrics.auc(fpr, tpr)\n",
    "    aucs.append(roc_auc)\n",
    "    plt.plot(fpr, tpr, lw=2, alpha=0.3, label='ROC fold %d (AUC = %0.2f)' % (i, roc_auc))\n",
    "    i = i+1"
   ]
  },
  {
   "cell_type": "code",
   "execution_count": 111,
   "id": "a45ef2c2",
   "metadata": {},
   "outputs": [
    {
     "data": {
      "image/png": "[encoded data removed]",
      "text/plain": [
       "<Figure size 432x288 with 1 Axes>"
      ]
     },
     "metadata": {
      "needs_background": "light"
     },
     "output_type": "display_data"
    }
   ],
   "source": [
    "plt.plot([0,1], [0,1], linestyle='--', lw=2, color='black')\n",
    "mean_tpr = np.mean(tprs, axis=0)\n",
    "mean_auc = metrics.auc(mean_fpr, mean_tpr)\n",
    "plt.plot(mean_fpr, mean_tpr, color='blue', label=r'Mean ROC (AUC = %0.2f )' % (mean_auc), lw=2, alpha=1)\n",
    "plt.xlabel('False Positive Rate')\n",
    "plt.ylabel('True Positive Rate')\n",
    "plt.title('K-Fold Validation')\n",
    "plt.legend(loc=\"lower right\")\n",
    "plt.show()"
   ]
  },
  {
   "cell_type": "code",
   "execution_count": 112,
   "id": "239bdd32",
   "metadata": {},
   "outputs": [
    {
     "data": {
      "text/plain": [
       "GradientBoostingClassifier(learning_rate=0.003, max_features=4,\n",
       "                           min_samples_leaf=3, min_samples_split=4,\n",
       "                           n_estimators=2000, subsample=0.75)"
      ]
     },
     "execution_count": 112,
     "metadata": {},
     "output_type": "execute_result"
    }
   ],
   "source": [
    "# treinando o melhor modelo escolhido \n",
    "\n",
    "model.fit(X_treino, Y_treino)\n"
   ]
  },
  {
   "cell_type": "code",
   "execution_count": 113,
   "id": "e90c3cca",
   "metadata": {},
   "outputs": [],
   "source": [
    "previsao = model.predict(X_teste)\n"
   ]
  },
  {
   "cell_type": "code",
   "execution_count": 114,
   "id": "a18862e1",
   "metadata": {},
   "outputs": [],
   "source": [
    "previsao_prob = model.predict_proba(X_teste)[:,1]"
   ]
  },
  {
   "cell_type": "code",
   "execution_count": null,
   "id": "16f57a29",
   "metadata": {},
   "outputs": [],
   "source": [
    "# Evaluation #"
   ]
  },
  {
   "cell_type": "code",
   "execution_count": 115,
   "id": "99dbfd5a",
   "metadata": {},
   "outputs": [
    {
     "data": {
      "text/plain": [
       "0.712112676056338"
      ]
     },
     "execution_count": 115,
     "metadata": {},
     "output_type": "execute_result"
    }
   ],
   "source": [
    "# Accuracy \n",
    "\n",
    "acc = metrics.accuracy_score(Y_teste, previsao)\n",
    "acc"
   ]
  },
  {
   "cell_type": "code",
   "execution_count": 116,
   "id": "5cc330e1",
   "metadata": {},
   "outputs": [
    {
     "data": {
      "text/plain": [
       "0.5432612570719988"
      ]
     },
     "execution_count": 116,
     "metadata": {},
     "output_type": "execute_result"
    }
   ],
   "source": [
    "# AUC\n",
    "\n",
    "auc = metrics.roc_auc_score(Y_teste, previsao_prob)\n",
    "auc"
   ]
  },
  {
   "cell_type": "code",
   "execution_count": 117,
   "id": "29526056",
   "metadata": {},
   "outputs": [
    {
     "data": {
      "text/plain": [
       "0.0"
      ]
     },
     "execution_count": 117,
     "metadata": {},
     "output_type": "execute_result"
    }
   ],
   "source": [
    "# recall \n",
    "\n",
    "recall = metrics.recall_score(Y_teste, previsao)\n",
    "recall"
   ]
  },
  {
   "cell_type": "code",
   "execution_count": 118,
   "id": "c2ad6cf6",
   "metadata": {},
   "outputs": [
    {
     "data": {
      "text/plain": [
       "0.0"
      ]
     },
     "execution_count": 118,
     "metadata": {},
     "output_type": "execute_result"
    }
   ],
   "source": [
    "# Precision \n",
    "\n",
    "precision = metrics.precision_score(Y_teste, previsao)\n",
    "precision"
   ]
  },
  {
   "cell_type": "code",
   "execution_count": 119,
   "id": "ff8a2507",
   "metadata": {},
   "outputs": [
    {
     "data": {
      "text/plain": [
       "<BarContainer object of 11 artists>"
      ]
     },
     "execution_count": 119,
     "metadata": {},
     "output_type": "execute_result"
    },
    {
     "data": {
      "image/png": "[encoded data removed]",
      "text/plain": [
       "<Figure size 432x288 with 1 Axes>"
      ]
     },
     "metadata": {
      "needs_background": "light"
     },
     "output_type": "display_data"
    }
   ],
   "source": [
    "feature_names = [\"GameRound\", \"Same_forehand\", \"Same_backhand\", \"Same_Country\", \"India\", \"Rank_diff\", \"Height_diff\", \"Prize\", \"Duração\",\"vantagem\", \"equilibrio\"]\n",
    "plt.barh(feature_names, model.feature_importances_)"
   ]
  },
  {
   "cell_type": "code",
   "execution_count": null,
   "id": "3ffc268e",
   "metadata": {},
   "outputs": [],
   "source": []
  },
  {
   "cell_type": "code",
   "execution_count": null,
   "id": "09a8b6df",
   "metadata": {},
   "outputs": [],
   "source": []
  },
  {
   "cell_type": "code",
   "execution_count": null,
   "id": "7c5be31f",
   "metadata": {},
   "outputs": [],
   "source": []
  },
  {
   "cell_type": "code",
   "execution_count": null,
   "id": "7343f5b7",
   "metadata": {},
   "outputs": [],
   "source": []
  },
  {
   "cell_type": "code",
   "execution_count": null,
   "id": "8787cdb2",
   "metadata": {},
   "outputs": [],
   "source": []
  },
  {
   "cell_type": "code",
   "execution_count": 120,
   "id": "9046346a",
   "metadata": {},
   "outputs": [],
   "source": [
    "# tentando sem a vantagem e o equilibrio \n",
    "\n",
    "entrada = [\"GameRound\", \"Same_forehand\", \"Same_backhand\", \"Same_Country\", \"India\", \"Rank_diff\", \"Height_diff\", \"Prize\", \"Duração\"]\n",
    "saida = [\"Sets\"]\n",
    "\n",
    "X_treino = india_treino[entrada].values\n",
    "Y_treino = india_treino[saida].values\n",
    "\n",
    "X_teste = india_teste[entrada].values\n",
    "Y_teste = india_teste[saida].values"
   ]
  },
  {
   "cell_type": "code",
   "execution_count": 121,
   "id": "6cb0b543",
   "metadata": {},
   "outputs": [
    {
     "name": "stdout",
     "output_type": "stream",
     "text": [
      "Best Model parameters: {'subsample': 0.9, 'n_estimators': 1250, 'min_samples_split': 2, 'min_samples_leaf': 7, 'max_features': 3, 'learning_rate': 0.005}\n",
      "Best Model mean precision: 0.6\n"
     ]
    }
   ],
   "source": [
    "param_dic = {'learning_rate':[0.15,0.1,0.05,0.01,0.005,0.001],   # primeira tentativa com os parametros iniciais   \n",
    "'n_estimators':[100,250,500,750,1000,1250,1500,1750], \n",
    "'min_samples_split':[2,4,6,8,10,20,40,60,100],   \n",
    "'min_samples_leaf':[1,3,5,7,9],     \n",
    "'max_features':[2,3,4,5,6,7],     \n",
    "'subsample':[0.7,0.75,0.8,0.85,0.9,0.95,1]}  \n",
    "\n",
    "\n",
    "random_search = model_selection.RandomizedSearchCV(model, \n",
    "       param_distributions=param_dic, n_iter=20, \n",
    "       scoring=\"precision\").fit(X_treino, Y_treino)\n",
    "print(\"Best Model parameters:\", random_search.best_params_)\n",
    "print(\"Best Model mean precision:\", random_search.best_score_)\n",
    "\n"
   ]
  },
  {
   "cell_type": "code",
   "execution_count": 122,
   "id": "9f92b5e5",
   "metadata": {},
   "outputs": [],
   "source": [
    "model = random_search.best_estimator_"
   ]
  },
  {
   "cell_type": "code",
   "execution_count": 123,
   "id": "35e71e31",
   "metadata": {},
   "outputs": [
    {
     "data": {
      "image/png": "[encoded data removed]",
      "text/plain": [
       "<Figure size 432x288 with 1 Axes>"
      ]
     },
     "metadata": {
      "needs_background": "light"
     },
     "output_type": "display_data"
    }
   ],
   "source": [
    "import scipy\n",
    "\n",
    "cv = model_selection.StratifiedKFold(n_splits=10, shuffle=True)\n",
    "tprs, aucs = [], []\n",
    "mean_fpr = np.linspace(0,1,100)\n",
    "fig = plt.figure()\n",
    "i = 1\n",
    "for train, test in cv.split(X_treino, Y_treino):\n",
    "    prediction = model.fit(X_treino[train], Y_treino[train]).predict_proba(X_treino[test])\n",
    "    fpr, tpr, t = metrics.roc_curve(Y_treino[test], prediction[:, 1])\n",
    "    tprs.append(scipy.interp(mean_fpr, fpr, tpr))\n",
    "    roc_auc = metrics.auc(fpr, tpr)\n",
    "    aucs.append(roc_auc)\n",
    "    plt.plot(fpr, tpr, lw=2, alpha=0.3, label='ROC fold %d (AUC = %0.2f)' % (i, roc_auc))\n",
    "    i = i+1\n",
    "    \n",
    "    \n",
    "\n",
    "    \n",
    "    \n",
    "plt.plot([0,1], [0,1], linestyle='--', lw=2, color='black')\n",
    "mean_tpr = np.mean(tprs, axis=0)\n",
    "mean_auc = metrics.auc(mean_fpr, mean_tpr)\n",
    "plt.plot(mean_fpr, mean_tpr, color='blue', label=r'Mean ROC (AUC = %0.2f )' % (mean_auc), lw=2, alpha=1)\n",
    "plt.xlabel('False Positive Rate')\n",
    "plt.ylabel('True Positive Rate')\n",
    "plt.title('K-Fold Validation')\n",
    "plt.legend(loc=\"lower right\")\n",
    "plt.show()    \n"
   ]
  },
  {
   "cell_type": "code",
   "execution_count": 124,
   "id": "30ad074d",
   "metadata": {},
   "outputs": [],
   "source": [
    "model.fit(X_treino, Y_treino)\n",
    "previsao = model.predict(X_teste)\n",
    "previsao_prob = model.predict_proba(X_teste)[:,1]"
   ]
  },
  {
   "cell_type": "code",
   "execution_count": 125,
   "id": "80b693bd",
   "metadata": {},
   "outputs": [
    {
     "data": {
      "text/plain": [
       "0.00196078431372549"
      ]
     },
     "execution_count": 125,
     "metadata": {},
     "output_type": "execute_result"
    }
   ],
   "source": [
    "recall = metrics.recall_score(Y_teste, previsao)\n",
    "recall\n"
   ]
  },
  {
   "cell_type": "code",
   "execution_count": 126,
   "id": "e0d212a4",
   "metadata": {},
   "outputs": [
    {
     "data": {
      "text/plain": [
       "0.5"
      ]
     },
     "execution_count": 126,
     "metadata": {},
     "output_type": "execute_result"
    }
   ],
   "source": [
    "precision = metrics.precision_score(Y_teste, previsao)\n",
    "precision\n"
   ]
  },
  {
   "cell_type": "code",
   "execution_count": 127,
   "id": "b3d56334",
   "metadata": {},
   "outputs": [
    {
     "data": {
      "image/png": "[encoded data removed]",
      "text/plain": [
       "<Figure size 432x288 with 1 Axes>"
      ]
     },
     "metadata": {
      "needs_background": "light"
     },
     "output_type": "display_data"
    }
   ],
   "source": [
    "classes = np.unique(Y_teste)\n",
    "fig, ax = plt.subplots()\n",
    "cm = metrics.confusion_matrix(Y_teste, previsao, labels=classes)\n",
    "sns.heatmap(cm, annot=True, fmt='d', cmap=plt.cm.Blues, cbar=False)\n",
    "ax.set(xlabel=\"Pred\", ylabel=\"True\", title=\"Confusion matrix\")\n",
    "ax.set_yticklabels(labels=classes, rotation=0)\n",
    "plt.show()"
   ]
  },
  {
   "cell_type": "code",
   "execution_count": 139,
   "id": "e80fcf97",
   "metadata": {},
   "outputs": [],
   "source": [
    "# mudando o limite \n",
    "model.fit(X_treino, Y_treino)\n",
    "predicted_prob1 = (model.predict_proba(X_teste)[:,1] >= 0.30).astype(int) \n",
    "predicted1 = model.predict(X_teste)"
   ]
  },
  {
   "cell_type": "code",
   "execution_count": 140,
   "id": "782acd91",
   "metadata": {},
   "outputs": [
    {
     "data": {
      "image/png": "[encoded data removed]",
      "text/plain": [
       "<Figure size 432x288 with 1 Axes>"
      ]
     },
     "metadata": {
      "needs_background": "light"
     },
     "output_type": "display_data"
    }
   ],
   "source": [
    "classes = np.unique(Y_teste)\n",
    "fig, ax = plt.subplots()\n",
    "cm = metrics.confusion_matrix(Y_teste, predicted_prob1, labels=classes)\n",
    "sns.heatmap(cm, annot=True, fmt='d', cmap=plt.cm.Blues, cbar=False)\n",
    "ax.set(xlabel=\"Pred\", ylabel=\"True\", title=\"Confusion matrix\")\n",
    "ax.set_yticklabels(labels=classes, rotation=0)\n",
    "plt.show()"
   ]
  },
  {
   "cell_type": "code",
   "execution_count": 143,
   "id": "8ce612b6",
   "metadata": {},
   "outputs": [
    {
     "data": {
      "text/plain": [
       "0.5189684569479966"
      ]
     },
     "execution_count": 143,
     "metadata": {},
     "output_type": "execute_result"
    }
   ],
   "source": [
    "# AUC \n",
    "auc = metrics.roc_auc_score(Y_teste, predicted_prob1)\n",
    "auc"
   ]
  },
  {
   "cell_type": "code",
   "execution_count": 144,
   "id": "f338c83b",
   "metadata": {},
   "outputs": [
    {
     "data": {
      "text/plain": [
       "0.31130434782608696"
      ]
     },
     "execution_count": 144,
     "metadata": {},
     "output_type": "execute_result"
    }
   ],
   "source": [
    "# precision \n",
    "p = metrics.precision_score(Y_teste, predicted_prob1)\n",
    "p"
   ]
  },
  {
   "cell_type": "code",
   "execution_count": 145,
   "id": "81462370",
   "metadata": {},
   "outputs": [
    {
     "data": {
      "text/plain": [
       "0.3509803921568627"
      ]
     },
     "execution_count": 145,
     "metadata": {},
     "output_type": "execute_result"
    }
   ],
   "source": [
    "recall = metrics.recall_score(Y_teste, predicted_prob1)\n",
    "recall"
   ]
  },
  {
   "cell_type": "code",
   "execution_count": 146,
   "id": "f5998ff7",
   "metadata": {},
   "outputs": [
    {
     "data": {
      "text/plain": [
       "0.5904225352112676"
      ]
     },
     "execution_count": 146,
     "metadata": {},
     "output_type": "execute_result"
    }
   ],
   "source": [
    "acc = metrics.accuracy_score(Y_teste, predicted_prob1)\n",
    "acc"
   ]
  },
  {
   "cell_type": "code",
   "execution_count": 147,
   "id": "ae66b04f",
   "metadata": {},
   "outputs": [
    {
     "data": {
      "text/plain": [
       "<BarContainer object of 9 artists>"
      ]
     },
     "execution_count": 147,
     "metadata": {},
     "output_type": "execute_result"
    },
    {
     "data": {
      "image/png": "[encoded data removed]",
      "text/plain": [
       "<Figure size 432x288 with 1 Axes>"
      ]
     },
     "metadata": {
      "needs_background": "light"
     },
     "output_type": "display_data"
    }
   ],
   "source": [
    "feature_names = [\"GameRound\", \"Same_forehand\", \"Same_backhand\", \"Same_Country\", \"India\", \"Rank_diff\", \"Height_diff\", \"Prize\", \"Duração\"]\n",
    "plt.barh(feature_names, model.feature_importances_)"
   ]
  },
  {
   "cell_type": "code",
   "execution_count": null,
   "id": "2e1dec3c",
   "metadata": {},
   "outputs": [],
   "source": []
  },
  {
   "cell_type": "code",
   "execution_count": null,
   "id": "da1e8d0a",
   "metadata": {},
   "outputs": [],
   "source": []
  },
  {
   "cell_type": "code",
   "execution_count": null,
   "id": "94dd4f8c",
   "metadata": {},
   "outputs": [],
   "source": []
  },
  {
   "cell_type": "code",
   "execution_count": null,
   "id": "0bf21f38",
   "metadata": {},
   "outputs": [],
   "source": []
  },
  {
   "cell_type": "code",
   "execution_count": null,
   "id": "9524d1d8",
   "metadata": {},
   "outputs": [],
   "source": []
  },
  {
   "cell_type": "code",
   "execution_count": 240,
   "id": "9d94ab06",
   "metadata": {},
   "outputs": [],
   "source": [
    "# tentando somente com as 5 variaveis mais importantes - melhor modelo ate agora (com limite de 0.3)\n",
    "\n",
    "entrada = [\"GameRound\", \"Rank_diff\", \"Height_diff\", \"Prize\", \"Duração\"]\n",
    "saida = [\"Sets\"]\n",
    "\n",
    "X_treino = india_treino[entrada].values\n",
    "Y_treino = india_treino[saida].values\n",
    "\n",
    "X_teste = india_teste[entrada].values\n",
    "Y_teste = india_teste[saida].values"
   ]
  },
  {
   "cell_type": "code",
   "execution_count": 241,
   "id": "87da4ce9",
   "metadata": {},
   "outputs": [],
   "source": [
    "model = ensemble.GradientBoostingClassifier()"
   ]
  },
  {
   "cell_type": "code",
   "execution_count": 242,
   "id": "0a8b28b5",
   "metadata": {},
   "outputs": [
    {
     "name": "stdout",
     "output_type": "stream",
     "text": [
      "Best Model parameters: {'subsample': 0.85, 'n_estimators': 2000, 'min_samples_split': 60, 'min_samples_leaf': 9, 'max_features': 5, 'learning_rate': 0.15}\n",
      "Best Model mean f1: 0.18267532638341608\n"
     ]
    }
   ],
   "source": [
    "param_dic = {'learning_rate':[0.15,0.1,0.05,0.01,0.005,0.001],    \n",
    "'n_estimators':[200,400,800,1000,1300,1600,2000,2500], \n",
    "'min_samples_split':[2,4,6,8,10,20,40,60,100],   \n",
    "'min_samples_leaf':[1,3,5,7,9],     \n",
    "'max_features':[2,3,4,5,5,5],     \n",
    "'subsample':[0.7,0.75,0.8,0.85,0.9,0.95,1]}  \n",
    "\n",
    "\n",
    "random_search = model_selection.RandomizedSearchCV(model, \n",
    "       param_distributions=param_dic, n_iter=25, \n",
    "       scoring=\"f1\").fit(X_treino, Y_treino)\n",
    "print(\"Best Model parameters:\", random_search.best_params_)\n",
    "print(\"Best Model mean f1:\", random_search.best_score_)"
   ]
  },
  {
   "cell_type": "code",
   "execution_count": 243,
   "id": "94f503f6",
   "metadata": {},
   "outputs": [],
   "source": [
    "model = random_search.best_estimator_"
   ]
  },
  {
   "cell_type": "code",
   "execution_count": 244,
   "id": "e0b5431d",
   "metadata": {},
   "outputs": [
    {
     "data": {
      "image/png": "[encoded data removed]",
      "text/plain": [
       "<Figure size 432x288 with 1 Axes>"
      ]
     },
     "metadata": {
      "needs_background": "light"
     },
     "output_type": "display_data"
    }
   ],
   "source": [
    "import scipy\n",
    "\n",
    "cv = model_selection.StratifiedKFold(n_splits=10, shuffle=True)\n",
    "tprs, aucs = [], []\n",
    "mean_fpr = np.linspace(0,1,100)\n",
    "fig = plt.figure()\n",
    "i = 1\n",
    "for train, test in cv.split(X_treino, Y_treino):\n",
    "    prediction = model.fit(X_treino[train], Y_treino[train]).predict_proba(X_treino[test])\n",
    "    fpr, tpr, t = metrics.roc_curve(Y_treino[test], prediction[:, 1])\n",
    "    tprs.append(scipy.interp(mean_fpr, fpr, tpr))\n",
    "    roc_auc = metrics.auc(fpr, tpr)\n",
    "    aucs.append(roc_auc)\n",
    "    plt.plot(fpr, tpr, lw=2, alpha=0.3, label='ROC fold %d (AUC = %0.2f)' % (i, roc_auc))\n",
    "    i = i+1\n",
    "    \n",
    "    \n",
    "\n",
    "    \n",
    "    \n",
    "plt.plot([0,1], [0,1], linestyle='--', lw=2, color='black')\n",
    "mean_tpr = np.mean(tprs, axis=0)\n",
    "mean_auc = metrics.auc(mean_fpr, mean_tpr)\n",
    "plt.plot(mean_fpr, mean_tpr, color='blue', label=r'Mean ROC (AUC = %0.2f )' % (mean_auc), lw=2, alpha=1)\n",
    "plt.xlabel('False Positive Rate')\n",
    "plt.ylabel('True Positive Rate')\n",
    "plt.title('K-Fold Validation')\n",
    "plt.legend(loc=\"lower right\")\n",
    "plt.show()    "
   ]
  },
  {
   "cell_type": "code",
   "execution_count": 245,
   "id": "777ef477",
   "metadata": {},
   "outputs": [],
   "source": [
    "model.fit(X_treino, Y_treino)\n",
    "previsao = model.predict(X_teste)\n",
    "previsao_prob = model.predict_proba(X_teste)[:,1]"
   ]
  },
  {
   "cell_type": "code",
   "execution_count": 246,
   "id": "40b62520",
   "metadata": {},
   "outputs": [
    {
     "data": {
      "text/plain": [
       "0.10588235294117647"
      ]
     },
     "execution_count": 246,
     "metadata": {},
     "output_type": "execute_result"
    }
   ],
   "source": [
    "recall = metrics.recall_score(Y_teste, previsao)\n",
    "recall"
   ]
  },
  {
   "cell_type": "code",
   "execution_count": 247,
   "id": "7b57fd6d",
   "metadata": {},
   "outputs": [
    {
     "data": {
      "text/plain": [
       "0.271356783919598"
      ]
     },
     "execution_count": 247,
     "metadata": {},
     "output_type": "execute_result"
    }
   ],
   "source": [
    "precision = metrics.precision_score(Y_teste, previsao)\n",
    "precision"
   ]
  },
  {
   "cell_type": "code",
   "execution_count": 250,
   "id": "2d2bffc5",
   "metadata": {},
   "outputs": [],
   "source": [
    "# mudando o limite da probabilidade (melhores resultados)\n",
    "model.fit(X_treino, Y_treino)\n",
    "predicted_prob1 = (model.predict_proba(X_teste)[:,1] >= 0.30).astype(int) # set threshold as 0.35\n",
    "predicted1 = model.predict(X_teste)"
   ]
  },
  {
   "cell_type": "code",
   "execution_count": 251,
   "id": "96a6822a",
   "metadata": {},
   "outputs": [
    {
     "data": {
      "text/plain": [
       "0.5035418119817097"
      ]
     },
     "execution_count": 251,
     "metadata": {},
     "output_type": "execute_result"
    }
   ],
   "source": [
    "# AUC \n",
    "auc = metrics.roc_auc_score(Y_teste, predicted_prob1)\n",
    "auc"
   ]
  },
  {
   "cell_type": "code",
   "execution_count": 252,
   "id": "be723c8b",
   "metadata": {},
   "outputs": [
    {
     "data": {
      "text/plain": [
       "0.2909604519774011"
      ]
     },
     "execution_count": 252,
     "metadata": {},
     "output_type": "execute_result"
    }
   ],
   "source": [
    "# precision \n",
    "p = metrics.precision_score(Y_teste, predicted_prob1)\n",
    "p"
   ]
  },
  {
   "cell_type": "code",
   "execution_count": 253,
   "id": "654a3765",
   "metadata": {},
   "outputs": [
    {
     "data": {
      "text/plain": [
       "0.403921568627451"
      ]
     },
     "execution_count": 253,
     "metadata": {},
     "output_type": "execute_result"
    }
   ],
   "source": [
    "recall = metrics.recall_score(Y_teste, predicted_prob1)\n",
    "recall"
   ]
  },
  {
   "cell_type": "code",
   "execution_count": 254,
   "id": "e99209b5",
   "metadata": {},
   "outputs": [
    {
     "data": {
      "text/plain": [
       "0.5459154929577464"
      ]
     },
     "execution_count": 254,
     "metadata": {},
     "output_type": "execute_result"
    }
   ],
   "source": [
    "acc = metrics.accuracy_score(Y_teste, predicted_prob1)\n",
    "acc"
   ]
  },
  {
   "cell_type": "code",
   "execution_count": 232,
   "id": "dccd42c2",
   "metadata": {},
   "outputs": [
    {
     "data": {
      "text/plain": [
       "<BarContainer object of 5 artists>"
      ]
     },
     "execution_count": 232,
     "metadata": {},
     "output_type": "execute_result"
    },
    {
     "data": {
      "image/png": "[encoded data removed]",
      "text/plain": [
       "<Figure size 432x288 with 1 Axes>"
      ]
     },
     "metadata": {
      "needs_background": "light"
     },
     "output_type": "display_data"
    }
   ],
   "source": [
    "feature_names = [\"GameRound\", \"Rank_diff\", \"Height_diff\", \"Prize\", \"Duração\"]\n",
    "plt.barh(feature_names, model.feature_importances_)"
   ]
  },
  {
   "cell_type": "code",
   "execution_count": 255,
   "id": "40d08f5d",
   "metadata": {},
   "outputs": [
    {
     "data": {
      "image/png": "[encoded data removed]",
      "text/plain": [
       "<Figure size 432x288 with 1 Axes>"
      ]
     },
     "metadata": {
      "needs_background": "light"
     },
     "output_type": "display_data"
    }
   ],
   "source": [
    "# matriz de confusao \n",
    "\n",
    "classes = np.unique(Y_teste)\n",
    "fig, ax = plt.subplots()\n",
    "cm = metrics.confusion_matrix(Y_teste, predicted_prob1, labels=classes)\n",
    "sns.heatmap(cm, annot=True, fmt='d', cmap=plt.cm.Blues, cbar=False)\n",
    "ax.set(xlabel=\"Pred\", ylabel=\"True\", title=\"Confusion matrix\")\n",
    "ax.set_yticklabels(labels=classes, rotation=0)\n",
    "plt.show()"
   ]
  },
  {
   "cell_type": "code",
   "execution_count": null,
   "id": "10d4ddb6",
   "metadata": {},
   "outputs": [],
   "source": []
  },
  {
   "cell_type": "code",
   "execution_count": null,
   "id": "7f4417a8",
   "metadata": {},
   "outputs": [],
   "source": []
  },
  {
   "cell_type": "code",
   "execution_count": null,
   "id": "374b590e",
   "metadata": {},
   "outputs": [],
   "source": []
  },
  {
   "cell_type": "code",
   "execution_count": null,
   "id": "6c881d20",
   "metadata": {},
   "outputs": [],
   "source": []
  },
  {
   "cell_type": "code",
   "execution_count": null,
   "id": "f2ebd6be",
   "metadata": {},
   "outputs": [],
   "source": [
    "# testando novamente, mudandando alguns paramentros "
   ]
  },
  {
   "cell_type": "code",
   "execution_count": 190,
   "id": "a6b18098",
   "metadata": {},
   "outputs": [],
   "source": [
    "model = ensemble.GradientBoostingClassifier()"
   ]
  },
  {
   "cell_type": "code",
   "execution_count": 191,
   "id": "e901ce96",
   "metadata": {},
   "outputs": [
    {
     "name": "stdout",
     "output_type": "stream",
     "text": [
      "Best Model parameters: {'subsample': 0.95, 'n_estimators': 1300, 'min_samples_split': 2, 'min_samples_leaf': 9, 'max_features': 3, 'learning_rate': 0.005}\n",
      "Best Model mean precision: 0.35\n"
     ]
    }
   ],
   "source": [
    "param_dic = {'learning_rate':[0.15,0.1,0.05,0.01,0.005,0.001],    \n",
    "'n_estimators':[200,400,800,1000,1300,1600,2000,2500], \n",
    "'min_samples_split':[2,4,6,8,10,20,40,60,100],   \n",
    "'min_samples_leaf':[1,3,5,7,9],     \n",
    "'max_features':[2,3,4,5,5,5],     \n",
    "'subsample':[0.7,0.75,0.8,0.85,0.9,0.95,1]}  \n",
    "\n",
    "\n",
    "random_search = model_selection.RandomizedSearchCV(model, \n",
    "       param_distributions=param_dic, n_iter=20, \n",
    "       scoring=\"precision\").fit(X_treino, Y_treino)\n",
    "print(\"Best Model parameters:\", random_search.best_params_)\n",
    "print(\"Best Model mean precision:\", random_search.best_score_)"
   ]
  },
  {
   "cell_type": "code",
   "execution_count": 192,
   "id": "55abfd09",
   "metadata": {},
   "outputs": [],
   "source": [
    "model = random_search.best_estimator_"
   ]
  },
  {
   "cell_type": "code",
   "execution_count": 193,
   "id": "7cb6b11c",
   "metadata": {},
   "outputs": [
    {
     "data": {
      "image/png": "[encoded data removed]",
      "text/plain": [
       "<Figure size 432x288 with 1 Axes>"
      ]
     },
     "metadata": {
      "needs_background": "light"
     },
     "output_type": "display_data"
    }
   ],
   "source": [
    "import scipy\n",
    "\n",
    "cv = model_selection.StratifiedKFold(n_splits=10, shuffle=True)\n",
    "tprs, aucs = [], []\n",
    "mean_fpr = np.linspace(0,1,100)\n",
    "fig = plt.figure()\n",
    "i = 1\n",
    "for train, test in cv.split(X_treino, Y_treino):\n",
    "    prediction = model.fit(X_treino[train], Y_treino[train]).predict_proba(X_treino[test])\n",
    "    fpr, tpr, t = metrics.roc_curve(Y_treino[test], prediction[:, 1])\n",
    "    tprs.append(scipy.interp(mean_fpr, fpr, tpr))\n",
    "    roc_auc = metrics.auc(fpr, tpr)\n",
    "    aucs.append(roc_auc)\n",
    "    plt.plot(fpr, tpr, lw=2, alpha=0.3, label='ROC fold %d (AUC = %0.2f)' % (i, roc_auc))\n",
    "    i = i+1\n",
    "    \n",
    "    \n",
    "\n",
    "    \n",
    "    \n",
    "plt.plot([0,1], [0,1], linestyle='--', lw=2, color='black')\n",
    "mean_tpr = np.mean(tprs, axis=0)\n",
    "mean_auc = metrics.auc(mean_fpr, mean_tpr)\n",
    "plt.plot(mean_fpr, mean_tpr, color='blue', label=r'Mean ROC (AUC = %0.2f )' % (mean_auc), lw=2, alpha=1)\n",
    "plt.xlabel('False Positive Rate')\n",
    "plt.ylabel('True Positive Rate')\n",
    "plt.title('K-Fold Validation')\n",
    "plt.legend(loc=\"lower right\")\n",
    "plt.show()    "
   ]
  },
  {
   "cell_type": "code",
   "execution_count": 194,
   "id": "0737936b",
   "metadata": {},
   "outputs": [],
   "source": [
    "model.fit(X_treino, Y_treino)\n",
    "predicted_prob1 = (model.predict_proba(X_teste)[:,1] >= 0.30).astype(int) # set threshold as 0.35\n",
    "predicted1 = model.predict(X_teste)"
   ]
  },
  {
   "cell_type": "code",
   "execution_count": 195,
   "id": "c54fe1e1",
   "metadata": {},
   "outputs": [
    {
     "data": {
      "text/plain": [
       "0.5248198093466636"
      ]
     },
     "execution_count": 195,
     "metadata": {},
     "output_type": "execute_result"
    }
   ],
   "source": [
    "# AUC \n",
    "auc = metrics.roc_auc_score(Y_teste, predicted_prob1)\n",
    "auc"
   ]
  },
  {
   "cell_type": "code",
   "execution_count": 196,
   "id": "de61d476",
   "metadata": {},
   "outputs": [
    {
     "data": {
      "text/plain": [
       "0.3176470588235294"
      ]
     },
     "execution_count": 196,
     "metadata": {},
     "output_type": "execute_result"
    }
   ],
   "source": [
    "# precision \n",
    "p = metrics.precision_score(Y_teste, predicted_prob1)\n",
    "p"
   ]
  },
  {
   "cell_type": "code",
   "execution_count": 197,
   "id": "217a2204",
   "metadata": {},
   "outputs": [
    {
     "data": {
      "text/plain": [
       "0.37058823529411766"
      ]
     },
     "execution_count": 197,
     "metadata": {},
     "output_type": "execute_result"
    }
   ],
   "source": [
    "recall = metrics.recall_score(Y_teste, predicted_prob1)\n",
    "recall"
   ]
  },
  {
   "cell_type": "code",
   "execution_count": null,
   "id": "25701cff",
   "metadata": {},
   "outputs": [],
   "source": []
  },
  {
   "cell_type": "code",
   "execution_count": null,
   "id": "158ef232",
   "metadata": {},
   "outputs": [],
   "source": []
  },
  {
   "cell_type": "code",
   "execution_count": null,
   "id": "e39d007e",
   "metadata": {},
   "outputs": [],
   "source": []
  },
  {
   "cell_type": "code",
   "execution_count": null,
   "id": "b610e4d2",
   "metadata": {},
   "outputs": [],
   "source": [
    "# testando de novo, mudando os parametros novamente, abaixando o numero de estimadores agora "
   ]
  },
  {
   "cell_type": "code",
   "execution_count": 199,
   "id": "c8108f76",
   "metadata": {},
   "outputs": [],
   "source": [
    "entrada = [\"GameRound\", \"Rank_diff\", \"Height_diff\", \"Prize\", \"Duração\"]\n",
    "saida = [\"Sets\"]\n",
    "\n",
    "X_treino = india_treino[entrada].values\n",
    "Y_treino = india_treino[saida].values\n",
    "\n",
    "X_teste = india_teste[entrada].values\n",
    "Y_teste = india_teste[saida].values"
   ]
  },
  {
   "cell_type": "code",
   "execution_count": 200,
   "id": "dbc87d1d",
   "metadata": {},
   "outputs": [],
   "source": [
    "model = ensemble.GradientBoostingClassifier()"
   ]
  },
  {
   "cell_type": "code",
   "execution_count": 201,
   "id": "cfc0b014",
   "metadata": {},
   "outputs": [
    {
     "name": "stdout",
     "output_type": "stream",
     "text": [
      "Best Model parameters: {'subsample': 0.8, 'n_estimators': 120, 'min_samples_split': 40, 'min_samples_leaf': 3, 'max_features': 2, 'learning_rate': 0.05}\n",
      "Best Model mean precision: 0.42857142857142855\n"
     ]
    }
   ],
   "source": [
    "param_dic = {'learning_rate':[0.15,0.1,0.05,0.01,0.005,0.001],    \n",
    "'n_estimators':[70,120,200,400,600,850,1000,1250], \n",
    "'min_samples_split':[2,4,6,8,10,20,40,60,100],   \n",
    "'min_samples_leaf':[1,3,5,7,9],     \n",
    "'max_features':[2,3,4,5,5,5],     \n",
    "'subsample':[0.7,0.75,0.8,0.85,0.9,0.95,1]}  \n",
    "\n",
    "\n",
    "random_search = model_selection.RandomizedSearchCV(model, \n",
    "       param_distributions=param_dic, n_iter=20, \n",
    "       scoring=\"precision\").fit(X_treino, Y_treino)\n",
    "print(\"Best Model parameters:\", random_search.best_params_)\n",
    "print(\"Best Model mean precision:\", random_search.best_score_)"
   ]
  },
  {
   "cell_type": "code",
   "execution_count": 202,
   "id": "a2005abb",
   "metadata": {},
   "outputs": [],
   "source": [
    "model = random_search.best_estimator_"
   ]
  },
  {
   "cell_type": "code",
   "execution_count": 203,
   "id": "e99831ae",
   "metadata": {},
   "outputs": [],
   "source": [
    "model.fit(X_treino, Y_treino)\n",
    "predicted_prob1 = (model.predict_proba(X_teste)[:,1] >= 0.30).astype(int) # set threshold as 0.35\n",
    "predicted1 = model.predict(X_teste)"
   ]
  },
  {
   "cell_type": "code",
   "execution_count": 204,
   "id": "f8b421f1",
   "metadata": {},
   "outputs": [
    {
     "data": {
      "text/plain": [
       "0.5338177168100442"
      ]
     },
     "execution_count": 204,
     "metadata": {},
     "output_type": "execute_result"
    }
   ],
   "source": [
    "# AUC \n",
    "auc = metrics.roc_auc_score(Y_teste, predicted_prob1)\n",
    "auc"
   ]
  },
  {
   "cell_type": "code",
   "execution_count": 205,
   "id": "3eea7c04",
   "metadata": {},
   "outputs": [
    {
     "data": {
      "text/plain": [
       "0.3273615635179153"
      ]
     },
     "execution_count": 205,
     "metadata": {},
     "output_type": "execute_result"
    }
   ],
   "source": [
    "# precision \n",
    "p = metrics.precision_score(Y_teste, predicted_prob1)\n",
    "p"
   ]
  },
  {
   "cell_type": "code",
   "execution_count": 206,
   "id": "0a64e49b",
   "metadata": {},
   "outputs": [
    {
     "data": {
      "text/plain": [
       "0.3941176470588235"
      ]
     },
     "execution_count": 206,
     "metadata": {},
     "output_type": "execute_result"
    }
   ],
   "source": [
    "recall = metrics.recall_score(Y_teste, predicted_prob1)\n",
    "recall"
   ]
  },
  {
   "cell_type": "code",
   "execution_count": 208,
   "id": "f3b4fbc2",
   "metadata": {},
   "outputs": [
    {
     "data": {
      "text/plain": [
       "0.5932394366197183"
      ]
     },
     "execution_count": 208,
     "metadata": {},
     "output_type": "execute_result"
    }
   ],
   "source": [
    "acc = metrics.accuracy_score(Y_teste, predicted_prob1)\n",
    "acc"
   ]
  },
  {
   "cell_type": "code",
   "execution_count": null,
   "id": "1953489e",
   "metadata": {},
   "outputs": [],
   "source": []
  },
  {
   "cell_type": "code",
   "execution_count": null,
   "id": "5efd7568",
   "metadata": {},
   "outputs": [],
   "source": []
  },
  {
   "cell_type": "code",
   "execution_count": null,
   "id": "9cef05fc",
   "metadata": {},
   "outputs": [],
   "source": []
  },
  {
   "cell_type": "code",
   "execution_count": null,
   "id": "c33e2fe4",
   "metadata": {},
   "outputs": [],
   "source": [
    "# tentando com as 5 variaveis, com treshold de 0.3 e melhor scoring = recall\n"
   ]
  },
  {
   "cell_type": "code",
   "execution_count": 179,
   "id": "72be5239",
   "metadata": {},
   "outputs": [],
   "source": [
    "entrada = [\"GameRound\", \"Rank_diff\", \"Height_diff\", \"Prize\", \"Duração\"]\n",
    "saida = [\"Sets\"]\n",
    "\n",
    "X_treino = india_treino[entrada].values\n",
    "Y_treino = india_treino[saida].values\n",
    "\n",
    "X_teste = india_teste[entrada].values\n",
    "Y_teste = india_teste[saida].values"
   ]
  },
  {
   "cell_type": "code",
   "execution_count": 180,
   "id": "2299d400",
   "metadata": {},
   "outputs": [],
   "source": [
    "model = ensemble.GradientBoostingClassifier()"
   ]
  },
  {
   "cell_type": "code",
   "execution_count": 181,
   "id": "6e110e96",
   "metadata": {},
   "outputs": [
    {
     "name": "stdout",
     "output_type": "stream",
     "text": [
      "Best Model parameters: {'subsample': 0.8, 'n_estimators': 1750, 'min_samples_split': 8, 'min_samples_leaf': 7, 'max_features': 5, 'learning_rate': 0.1}\n",
      "Best Model mean precision: 0.12109181141439204\n"
     ]
    }
   ],
   "source": [
    "param_dic = {'learning_rate':[0.15,0.1,0.05,0.01,0.005,0.001],    \n",
    "'n_estimators':[100,250,500,750,1000,1250,1500,1750], \n",
    "'min_samples_split':[2,4,6,8,10,20,40,60,100],   \n",
    "'min_samples_leaf':[1,3,5,7,9],     \n",
    "'max_features':[1,2,3,4,5],     \n",
    "'subsample':[0.7,0.75,0.8,0.85,0.9,0.95,1]}  \n",
    "\n",
    "\n",
    "random_search = model_selection.RandomizedSearchCV(model, \n",
    "       param_distributions=param_dic, n_iter=20, \n",
    "       scoring=\"recall\").fit(X_treino, Y_treino)\n",
    "print(\"Best Model parameters:\", random_search.best_params_)\n",
    "print(\"Best Model mean precision:\", random_search.best_score_)"
   ]
  },
  {
   "cell_type": "code",
   "execution_count": 182,
   "id": "688b4d85",
   "metadata": {},
   "outputs": [],
   "source": [
    "model = random_search.best_estimator_"
   ]
  },
  {
   "cell_type": "code",
   "execution_count": 183,
   "id": "a58e01d5",
   "metadata": {},
   "outputs": [
    {
     "data": {
      "image/png": "[encoded data removed]",
      "text/plain": [
       "<Figure size 432x288 with 1 Axes>"
      ]
     },
     "metadata": {
      "needs_background": "light"
     },
     "output_type": "display_data"
    }
   ],
   "source": [
    "import scipy\n",
    "\n",
    "cv = model_selection.StratifiedKFold(n_splits=10, shuffle=True)\n",
    "tprs, aucs = [], []\n",
    "mean_fpr = np.linspace(0,1,100)\n",
    "fig = plt.figure()\n",
    "i = 1\n",
    "for train, test in cv.split(X_treino, Y_treino):\n",
    "    prediction = model.fit(X_treino[train], Y_treino[train]).predict_proba(X_treino[test])\n",
    "    fpr, tpr, t = metrics.roc_curve(Y_treino[test], prediction[:, 1])\n",
    "    tprs.append(scipy.interp(mean_fpr, fpr, tpr))\n",
    "    roc_auc = metrics.auc(fpr, tpr)\n",
    "    aucs.append(roc_auc)\n",
    "    plt.plot(fpr, tpr, lw=2, alpha=0.3, label='ROC fold %d (AUC = %0.2f)' % (i, roc_auc))\n",
    "    i = i+1\n",
    "    \n",
    "    \n",
    "    \n",
    "    \n",
    "plt.plot([0,1], [0,1], linestyle='--', lw=2, color='black')\n",
    "mean_tpr = np.mean(tprs, axis=0)\n",
    "mean_auc = metrics.auc(mean_fpr, mean_tpr)\n",
    "plt.plot(mean_fpr, mean_tpr, color='blue', label=r'Mean ROC (AUC = %0.2f )' % (mean_auc), lw=2, alpha=1)\n",
    "plt.xlabel('False Positive Rate')\n",
    "plt.ylabel('True Positive Rate')\n",
    "plt.title('K-Fold Validation')\n",
    "plt.legend(loc=\"lower right\")\n",
    "plt.show() "
   ]
  },
  {
   "cell_type": "code",
   "execution_count": 184,
   "id": "ff0c1656",
   "metadata": {},
   "outputs": [],
   "source": [
    "model.fit(X_treino, Y_treino)\n",
    "predicted_prob1 = (model.predict_proba(X_teste)[:,1] >= 0.30).astype(int) # set threshold as 0.35\n",
    "predicted1 = model.predict(X_teste)"
   ]
  },
  {
   "cell_type": "code",
   "execution_count": 185,
   "id": "81224b18",
   "metadata": {},
   "outputs": [
    {
     "data": {
      "text/plain": [
       "0.5102456792993877"
      ]
     },
     "execution_count": 185,
     "metadata": {},
     "output_type": "execute_result"
    }
   ],
   "source": [
    "# AUC \n",
    "auc = metrics.roc_auc_score(Y_teste, predicted_prob1)\n",
    "auc"
   ]
  },
  {
   "cell_type": "code",
   "execution_count": 186,
   "id": "5745a1ba",
   "metadata": {},
   "outputs": [
    {
     "data": {
      "text/plain": [
       "0.2979942693409742"
      ]
     },
     "execution_count": 186,
     "metadata": {},
     "output_type": "execute_result"
    }
   ],
   "source": [
    "# precision \n",
    "p = metrics.precision_score(Y_teste, predicted_prob1)\n",
    "p"
   ]
  },
  {
   "cell_type": "code",
   "execution_count": 187,
   "id": "d32f1e28",
   "metadata": {},
   "outputs": [
    {
     "data": {
      "text/plain": [
       "0.40784313725490196"
      ]
     },
     "execution_count": 187,
     "metadata": {},
     "output_type": "execute_result"
    }
   ],
   "source": [
    "recall = metrics.recall_score(Y_teste, predicted_prob1)\n",
    "recall"
   ]
  },
  {
   "cell_type": "code",
   "execution_count": 188,
   "id": "6251ae53",
   "metadata": {},
   "outputs": [
    {
     "data": {
      "text/plain": [
       "0.5538028169014084"
      ]
     },
     "execution_count": 188,
     "metadata": {},
     "output_type": "execute_result"
    }
   ],
   "source": [
    "acc = metrics.accuracy_score(Y_teste, predicted_prob1)\n",
    "acc"
   ]
  },
  {
   "cell_type": "code",
   "execution_count": null,
   "id": "9878a50e",
   "metadata": {},
   "outputs": [],
   "source": []
  },
  {
   "cell_type": "code",
   "execution_count": null,
   "id": "bb72a22d",
   "metadata": {},
   "outputs": [],
   "source": []
  },
  {
   "cell_type": "code",
   "execution_count": null,
   "id": "e6e1dcdc",
   "metadata": {},
   "outputs": [],
   "source": []
  },
  {
   "cell_type": "code",
   "execution_count": null,
   "id": "1c227221",
   "metadata": {},
   "outputs": [],
   "source": [
    "# fazendo com todas as variaveis, com o scoring = precision , limite de 0.3 e com alguns parametros diferentes"
   ]
  },
  {
   "cell_type": "code",
   "execution_count": 273,
   "id": "a63f09c1",
   "metadata": {},
   "outputs": [],
   "source": [
    "entrada = [\"GameRound\", \"Same_forehand\", \"Same_backhand\", \"Same_Country\", \"India\", \"Rank_diff\", \"Height_diff\", \"Prize\", \"Duração\",\"vantagem\", \"equilibrio\"]\n",
    "saida = [\"Sets\"]\n",
    "\n",
    "X_treino = india_treino[entrada].values\n",
    "Y_treino = india_treino[saida].values\n",
    "\n",
    "X_teste = india_teste[entrada].values\n",
    "Y_teste = india_teste[saida].values\n"
   ]
  },
  {
   "cell_type": "code",
   "execution_count": 274,
   "id": "895e4087",
   "metadata": {},
   "outputs": [],
   "source": [
    "model = ensemble.GradientBoostingClassifier()"
   ]
  },
  {
   "cell_type": "code",
   "execution_count": 275,
   "id": "ecea0d5e",
   "metadata": {},
   "outputs": [
    {
     "name": "stdout",
     "output_type": "stream",
     "text": [
      "Best Model parameters: {'subsample': 0.65, 'n_estimators': 100, 'min_samples_split': 70, 'min_samples_leaf': 7, 'max_features': 1, 'learning_rate': 0.15}\n",
      "Best Model mean precision: 0.62\n"
     ]
    }
   ],
   "source": [
    "param_dic = {'learning_rate':[0.15,0.1,0.05,0.01,0.005,0.001],    \n",
    "'n_estimators':[100,250,500,750,1250,1500,2000,2500], \n",
    "'min_samples_split':[2,4,6,8,10,20,30,45,70],   \n",
    "'min_samples_leaf':[1,3,5,7,9],     \n",
    "'max_features':[1,3,5,7,9,11],     \n",
    "'subsample':[0.65,0.70,0.75,0.8,0.85,0.9,0.95]}  \n",
    "\n",
    "\n",
    "random_search = model_selection.RandomizedSearchCV(model, \n",
    "       param_distributions=param_dic, n_iter=25, \n",
    "       scoring=\"precision\").fit(X_treino, Y_treino)\n",
    "print(\"Best Model parameters:\", random_search.best_params_)\n",
    "print(\"Best Model mean precision:\", random_search.best_score_)"
   ]
  },
  {
   "cell_type": "code",
   "execution_count": 276,
   "id": "e765bf50",
   "metadata": {},
   "outputs": [],
   "source": [
    "model = random_search.best_estimator_"
   ]
  },
  {
   "cell_type": "code",
   "execution_count": 293,
   "id": "b1c624a6",
   "metadata": {},
   "outputs": [],
   "source": [
    "model.fit(X_treino, Y_treino)\n",
    "predicted_prob1 = (model.predict_proba(X_teste)[:,1] >= 0.31).astype(int) \n",
    "predicted1 = model.predict(X_teste)"
   ]
  },
  {
   "cell_type": "code",
   "execution_count": 294,
   "id": "27b1bc5a",
   "metadata": {},
   "outputs": [
    {
     "data": {
      "text/plain": [
       "0.5210493683639463"
      ]
     },
     "execution_count": 294,
     "metadata": {},
     "output_type": "execute_result"
    }
   ],
   "source": [
    "# AUC \n",
    "\n",
    "auc = metrics.roc_auc_score(Y_teste, predicted_prob1)\n",
    "auc"
   ]
  },
  {
   "cell_type": "code",
   "execution_count": 295,
   "id": "8bc7968e",
   "metadata": {},
   "outputs": [
    {
     "data": {
      "text/plain": [
       "0.3225806451612903"
      ]
     },
     "execution_count": 295,
     "metadata": {},
     "output_type": "execute_result"
    }
   ],
   "source": [
    "# precision \n",
    "\n",
    "p = metrics.precision_score(Y_teste, predicted_prob1)\n",
    "p"
   ]
  },
  {
   "cell_type": "code",
   "execution_count": 296,
   "id": "8a983daa",
   "metadata": {},
   "outputs": [
    {
     "data": {
      "text/plain": [
       "0.27450980392156865"
      ]
     },
     "execution_count": 296,
     "metadata": {},
     "output_type": "execute_result"
    }
   ],
   "source": [
    "# recall\n",
    "\n",
    "recall = metrics.recall_score(Y_teste, predicted_prob1)\n",
    "recall"
   ]
  },
  {
   "cell_type": "code",
   "execution_count": 297,
   "id": "2d6726c6",
   "metadata": {},
   "outputs": [
    {
     "data": {
      "text/plain": [
       "0.6259154929577465"
      ]
     },
     "execution_count": 297,
     "metadata": {},
     "output_type": "execute_result"
    }
   ],
   "source": [
    "# accuracy \n",
    "\n",
    "acc = metrics.accuracy_score(Y_teste, predicted_prob1)\n",
    "acc"
   ]
  },
  {
   "cell_type": "code",
   "execution_count": 298,
   "id": "2eae1ce1",
   "metadata": {},
   "outputs": [
    {
     "data": {
      "image/png": "[encoded data removed]",
      "text/plain": [
       "<Figure size 432x288 with 1 Axes>"
      ]
     },
     "metadata": {
      "needs_background": "light"
     },
     "output_type": "display_data"
    }
   ],
   "source": [
    "# matriz de confusao \n",
    "\n",
    "classes = np.unique(Y_teste)\n",
    "fig, ax = plt.subplots()\n",
    "cm = metrics.confusion_matrix(Y_teste, predicted_prob1, labels=classes)\n",
    "sns.heatmap(cm, annot=True, fmt='d', cmap=plt.cm.Blues, cbar=False)\n",
    "ax.set(xlabel=\"Pred\", ylabel=\"True\", title=\"Confusion matrix\")\n",
    "ax.set_yticklabels(labels=classes, rotation=0)\n",
    "plt.show()"
   ]
  },
  {
   "cell_type": "code",
   "execution_count": null,
   "id": "8eb1b42f",
   "metadata": {},
   "outputs": [],
   "source": []
  },
  {
   "cell_type": "code",
   "execution_count": null,
   "id": "9b7c0181",
   "metadata": {},
   "outputs": [],
   "source": []
  }
 ],
 "metadata": {
  "kernelspec": {
   "display_name": "Python 3 (ipykernel)",
   "language": "python",
   "name": "python3"
  },
  "language_info": {
   "codemirror_mode": {
    "name": "ipython",
    "version": 3
   },
   "file_extension": ".py",
   "mimetype": "text/x-python",
   "name": "python",
   "nbconvert_exporter": "python",
   "pygments_lexer": "ipython3",
   "version": "3.9.7"
  }
 },
 "nbformat": 4,
 "nbformat_minor": 5
}
